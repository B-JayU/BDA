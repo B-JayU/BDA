{
 "cells": [
  {
   "cell_type": "code",
   "execution_count": 167,
   "metadata": {},
   "outputs": [],
   "source": [
    "import pandas as pd\n",
    "import numpy as np\n",
    "import os\n",
    "import matplotlib.pyplot as plt\n",
    "from scipy.stats import norm"
   ]
  },
  {
   "cell_type": "code",
   "execution_count": 168,
   "metadata": {},
   "outputs": [
    {
     "data": {
      "text/html": [
       "<div>\n",
       "<style scoped>\n",
       "    .dataframe tbody tr th:only-of-type {\n",
       "        vertical-align: middle;\n",
       "    }\n",
       "\n",
       "    .dataframe tbody tr th {\n",
       "        vertical-align: top;\n",
       "    }\n",
       "\n",
       "    .dataframe thead th {\n",
       "        text-align: right;\n",
       "    }\n",
       "</style>\n",
       "<table border=\"1\" class=\"dataframe\">\n",
       "  <thead>\n",
       "    <tr style=\"text-align: right;\">\n",
       "      <th></th>\n",
       "      <th>요인명</th>\n",
       "      <th>군집명</th>\n",
       "      <th>평균</th>\n",
       "      <th>표준편차</th>\n",
       "      <th>경영위기여부</th>\n",
       "    </tr>\n",
       "  </thead>\n",
       "  <tbody>\n",
       "    <tr>\n",
       "      <th>0</th>\n",
       "      <td>z_sum_sales_card2</td>\n",
       "      <td>군집0</td>\n",
       "      <td>0.181000</td>\n",
       "      <td>1.375444</td>\n",
       "      <td>0</td>\n",
       "    </tr>\n",
       "    <tr>\n",
       "      <th>1</th>\n",
       "      <td>z_sum_sales_card2</td>\n",
       "      <td>군집0</td>\n",
       "      <td>-0.081129</td>\n",
       "      <td>0.863522</td>\n",
       "      <td>1</td>\n",
       "    </tr>\n",
       "    <tr>\n",
       "      <th>2</th>\n",
       "      <td>z_sum_sales_card2</td>\n",
       "      <td>군집1</td>\n",
       "      <td>-0.062529</td>\n",
       "      <td>0.630081</td>\n",
       "      <td>0</td>\n",
       "    </tr>\n",
       "    <tr>\n",
       "      <th>3</th>\n",
       "      <td>z_sum_sales_card2</td>\n",
       "      <td>군집1</td>\n",
       "      <td>-0.304258</td>\n",
       "      <td>0.281004</td>\n",
       "      <td>1</td>\n",
       "    </tr>\n",
       "    <tr>\n",
       "      <th>4</th>\n",
       "      <td>z_sum_sales_card2</td>\n",
       "      <td>군집2</td>\n",
       "      <td>-0.095243</td>\n",
       "      <td>0.403066</td>\n",
       "      <td>0</td>\n",
       "    </tr>\n",
       "    <tr>\n",
       "      <th>...</th>\n",
       "      <td>...</td>\n",
       "      <td>...</td>\n",
       "      <td>...</td>\n",
       "      <td>...</td>\n",
       "      <td>...</td>\n",
       "    </tr>\n",
       "    <tr>\n",
       "      <th>451</th>\n",
       "      <td>남성연령대_50_직장_인구_수</td>\n",
       "      <td>군집1</td>\n",
       "      <td>486.640496</td>\n",
       "      <td>360.303245</td>\n",
       "      <td>1</td>\n",
       "    </tr>\n",
       "    <tr>\n",
       "      <th>452</th>\n",
       "      <td>남성연령대_50_직장_인구_수</td>\n",
       "      <td>군집2</td>\n",
       "      <td>1226.190845</td>\n",
       "      <td>680.475028</td>\n",
       "      <td>0</td>\n",
       "    </tr>\n",
       "    <tr>\n",
       "      <th>453</th>\n",
       "      <td>남성연령대_50_직장_인구_수</td>\n",
       "      <td>군집2</td>\n",
       "      <td>1168.693452</td>\n",
       "      <td>457.495828</td>\n",
       "      <td>1</td>\n",
       "    </tr>\n",
       "    <tr>\n",
       "      <th>454</th>\n",
       "      <td>남성연령대_50_직장_인구_수</td>\n",
       "      <td>군집3</td>\n",
       "      <td>1853.442239</td>\n",
       "      <td>NaN</td>\n",
       "      <td>0</td>\n",
       "    </tr>\n",
       "    <tr>\n",
       "      <th>455</th>\n",
       "      <td>남성연령대_50_직장_인구_수</td>\n",
       "      <td>군집3</td>\n",
       "      <td>1736.888422</td>\n",
       "      <td>3007.860359</td>\n",
       "      <td>1</td>\n",
       "    </tr>\n",
       "  </tbody>\n",
       "</table>\n",
       "<p>456 rows × 5 columns</p>\n",
       "</div>"
      ],
      "text/plain": [
       "                   요인명  군집명           평균         표준편차  경영위기여부\n",
       "0    z_sum_sales_card2  군집0     0.181000     1.375444       0\n",
       "1    z_sum_sales_card2  군집0    -0.081129     0.863522       1\n",
       "2    z_sum_sales_card2  군집1    -0.062529     0.630081       0\n",
       "3    z_sum_sales_card2  군집1    -0.304258     0.281004       1\n",
       "4    z_sum_sales_card2  군집2    -0.095243     0.403066       0\n",
       "..                 ...  ...          ...          ...     ...\n",
       "451   남성연령대_50_직장_인구_수  군집1   486.640496   360.303245       1\n",
       "452   남성연령대_50_직장_인구_수  군집2  1226.190845   680.475028       0\n",
       "453   남성연령대_50_직장_인구_수  군집2  1168.693452   457.495828       1\n",
       "454   남성연령대_50_직장_인구_수  군집3  1853.442239          NaN       0\n",
       "455   남성연령대_50_직장_인구_수  군집3  1736.888422  3007.860359       1\n",
       "\n",
       "[456 rows x 5 columns]"
      ]
     },
     "execution_count": 168,
     "metadata": {},
     "output_type": "execute_result"
    }
   ],
   "source": [
    "df = pd.read_excel('./평균_표준편차.xlsx', sheet_name = 1)\n",
    "df"
   ]
  },
  {
   "cell_type": "code",
   "execution_count": 169,
   "metadata": {},
   "outputs": [
    {
     "name": "stdout",
     "output_type": "stream",
     "text": [
      "<class 'pandas.core.frame.DataFrame'>\n",
      "RangeIndex: 456 entries, 0 to 455\n",
      "Data columns (total 5 columns):\n",
      " #   Column  Non-Null Count  Dtype  \n",
      "---  ------  --------------  -----  \n",
      " 0   요인명     456 non-null    object \n",
      " 1   군집명     456 non-null    object \n",
      " 2   평균      456 non-null    float64\n",
      " 3   표준편차    440 non-null    float64\n",
      " 4   경영위기여부  456 non-null    int64  \n",
      "dtypes: float64(2), int64(1), object(2)\n",
      "memory usage: 17.9+ KB\n"
     ]
    }
   ],
   "source": [
    "df.info()"
   ]
  },
  {
   "cell_type": "code",
   "execution_count": 170,
   "metadata": {},
   "outputs": [],
   "source": [
    "# 결측치 처리\n",
    "df = df.fillna(0)"
   ]
  },
  {
   "cell_type": "code",
   "execution_count": 171,
   "metadata": {},
   "outputs": [
    {
     "name": "stdout",
     "output_type": "stream",
     "text": [
      "<class 'pandas.core.frame.DataFrame'>\n",
      "RangeIndex: 456 entries, 0 to 455\n",
      "Data columns (total 5 columns):\n",
      " #   Column  Non-Null Count  Dtype  \n",
      "---  ------  --------------  -----  \n",
      " 0   요인명     456 non-null    object \n",
      " 1   군집명     456 non-null    object \n",
      " 2   평균      456 non-null    float64\n",
      " 3   표준편차    456 non-null    float64\n",
      " 4   경영위기여부  456 non-null    int64  \n",
      "dtypes: float64(2), int64(1), object(2)\n",
      "memory usage: 17.9+ KB\n"
     ]
    }
   ],
   "source": [
    "df.info()"
   ]
  },
  {
   "cell_type": "code",
   "execution_count": 181,
   "metadata": {},
   "outputs": [],
   "source": [
    "def visualize_plot(feature, cluster_group, idx):\n",
    "    \n",
    "    risky0 = df.loc[(df['요인명'] == feature) & (df['군집명'] == cluster_group) & (df['경영위기여부'] == 0)][['평균', '표준편차']]\n",
    "    risky1 = df.loc[(df['요인명'] == feature) & (df['군집명'] == cluster_group) & (df['경영위기여부'] == 1)][['평균', '표준편차']]\n",
    "    \n",
    "    avg0, avg1 = risky0['평균'].iloc[0], risky1['평균'].iloc[0]\n",
    "    std0, std1 = risky0['표준편차'].iloc[0], risky1['표준편차'].iloc[0]\n",
    "    \n",
    "    x_start = -3*std0 + avg0 if ((-3*std0 + avg0) < (-3*std1 + avg1)) else -3*std1 + avg1\n",
    "    x_end = 3*std0 + avg0 if ((3*std0 + avg0) > (3*std1 + avg1)) else 3*std1 + avg1\n",
    "    x = np.linspace(x_start, x_end, 500)\n",
    "    \n",
    "    plt.subplot(57, 4, idx)\n",
    "    plt.clf()      \n",
    "    plt.title(f'{cluster_group}의 {feature} 분포')\n",
    "    plt.plot(x, norm.pdf(x, loc=avg0, scale=std0), label='is_risky=0')\n",
    "    plt.plot(x, norm.pdf(x, loc=avg1, scale=std1), label='is_risky=1')\n",
    "    plt.grid()\n",
    "    plt.legend()\n",
    "    \n",
    "    dir_path = f'./평균_표준편차_시각화/{feature}'\n",
    "        \n",
    "    if not os.path.exists(dir_path):\n",
    "        os.makedirs(dir_path)\n",
    "    plt.savefig(f'./평균_표준편차_시각화/{feature}/{cluster_group}의_{feature}의 분포.png')\n",
    "    "
   ]
  },
  {
   "cell_type": "code",
   "execution_count": 183,
   "metadata": {},
   "outputs": [
    {
     "name": "stdout",
     "output_type": "stream",
     "text": [
      "z_sum_sales_card2 군집0\n",
      "z_sum_sales_card2 군집1\n",
      "z_sum_sales_card2 군집2\n"
     ]
    },
    {
     "name": "stderr",
     "output_type": "stream",
     "text": [
      "C:\\Users\\user\\AppData\\Local\\Temp\\ipykernel_17504\\3551681392.py:16: MatplotlibDeprecationWarning: Auto-removal of overlapping axes is deprecated since 3.6 and will be removed two minor releases later; explicitly call ax.remove() as needed.\n",
      "  plt.subplot(57, 4, idx)\n",
      "C:\\Users\\user\\AppData\\Local\\Temp\\ipykernel_17504\\3551681392.py:16: MatplotlibDeprecationWarning: Auto-removal of overlapping axes is deprecated since 3.6 and will be removed two minor releases later; explicitly call ax.remove() as needed.\n",
      "  plt.subplot(57, 4, idx)\n",
      "C:\\Users\\user\\AppData\\Local\\Temp\\ipykernel_17504\\3551681392.py:16: MatplotlibDeprecationWarning: Auto-removal of overlapping axes is deprecated since 3.6 and will be removed two minor releases later; explicitly call ax.remove() as needed.\n",
      "  plt.subplot(57, 4, idx)\n"
     ]
    },
    {
     "name": "stdout",
     "output_type": "stream",
     "text": [
      "z_sum_sales_card2 군집3\n",
      "z_sum_weekend_sales_card 군집0\n",
      "z_sum_weekend_sales_card 군집1\n"
     ]
    },
    {
     "name": "stderr",
     "output_type": "stream",
     "text": [
      "C:\\Users\\user\\AppData\\Local\\Temp\\ipykernel_17504\\3551681392.py:16: MatplotlibDeprecationWarning: Auto-removal of overlapping axes is deprecated since 3.6 and will be removed two minor releases later; explicitly call ax.remove() as needed.\n",
      "  plt.subplot(57, 4, idx)\n",
      "C:\\Users\\user\\AppData\\Local\\Temp\\ipykernel_17504\\3551681392.py:16: MatplotlibDeprecationWarning: Auto-removal of overlapping axes is deprecated since 3.6 and will be removed two minor releases later; explicitly call ax.remove() as needed.\n",
      "  plt.subplot(57, 4, idx)\n",
      "C:\\Users\\user\\AppData\\Local\\Temp\\ipykernel_17504\\3551681392.py:16: MatplotlibDeprecationWarning: Auto-removal of overlapping axes is deprecated since 3.6 and will be removed two minor releases later; explicitly call ax.remove() as needed.\n",
      "  plt.subplot(57, 4, idx)\n"
     ]
    },
    {
     "name": "stdout",
     "output_type": "stream",
     "text": [
      "z_sum_weekend_sales_card 군집2\n",
      "z_sum_weekend_sales_card 군집3\n",
      "sum_weekend_sales_card 군집0\n"
     ]
    },
    {
     "name": "stderr",
     "output_type": "stream",
     "text": [
      "C:\\Users\\user\\AppData\\Local\\Temp\\ipykernel_17504\\3551681392.py:16: MatplotlibDeprecationWarning: Auto-removal of overlapping axes is deprecated since 3.6 and will be removed two minor releases later; explicitly call ax.remove() as needed.\n",
      "  plt.subplot(57, 4, idx)\n",
      "C:\\Users\\user\\AppData\\Local\\Temp\\ipykernel_17504\\3551681392.py:16: MatplotlibDeprecationWarning: Auto-removal of overlapping axes is deprecated since 3.6 and will be removed two minor releases later; explicitly call ax.remove() as needed.\n",
      "  plt.subplot(57, 4, idx)\n",
      "C:\\Users\\user\\AppData\\Local\\Temp\\ipykernel_17504\\3551681392.py:16: MatplotlibDeprecationWarning: Auto-removal of overlapping axes is deprecated since 3.6 and will be removed two minor releases later; explicitly call ax.remove() as needed.\n",
      "  plt.subplot(57, 4, idx)\n"
     ]
    },
    {
     "name": "stdout",
     "output_type": "stream",
     "text": [
      "sum_weekend_sales_card 군집1\n",
      "sum_weekend_sales_card 군집2\n",
      "sum_weekend_sales_card 군집3\n"
     ]
    },
    {
     "name": "stderr",
     "output_type": "stream",
     "text": [
      "C:\\Users\\user\\AppData\\Local\\Temp\\ipykernel_17504\\3551681392.py:16: MatplotlibDeprecationWarning: Auto-removal of overlapping axes is deprecated since 3.6 and will be removed two minor releases later; explicitly call ax.remove() as needed.\n",
      "  plt.subplot(57, 4, idx)\n",
      "C:\\Users\\user\\AppData\\Local\\Temp\\ipykernel_17504\\3551681392.py:16: MatplotlibDeprecationWarning: Auto-removal of overlapping axes is deprecated since 3.6 and will be removed two minor releases later; explicitly call ax.remove() as needed.\n",
      "  plt.subplot(57, 4, idx)\n",
      "C:\\Users\\user\\AppData\\Local\\Temp\\ipykernel_17504\\3551681392.py:16: MatplotlibDeprecationWarning: Auto-removal of overlapping axes is deprecated since 3.6 and will be removed two minor releases later; explicitly call ax.remove() as needed.\n",
      "  plt.subplot(57, 4, idx)\n"
     ]
    },
    {
     "name": "stdout",
     "output_type": "stream",
     "text": [
      "sum_sales_card 군집0\n",
      "sum_sales_card 군집1\n",
      "sum_sales_card 군집2\n"
     ]
    },
    {
     "name": "stderr",
     "output_type": "stream",
     "text": [
      "C:\\Users\\user\\AppData\\Local\\Temp\\ipykernel_17504\\3551681392.py:16: MatplotlibDeprecationWarning: Auto-removal of overlapping axes is deprecated since 3.6 and will be removed two minor releases later; explicitly call ax.remove() as needed.\n",
      "  plt.subplot(57, 4, idx)\n",
      "C:\\Users\\user\\AppData\\Local\\Temp\\ipykernel_17504\\3551681392.py:16: MatplotlibDeprecationWarning: Auto-removal of overlapping axes is deprecated since 3.6 and will be removed two minor releases later; explicitly call ax.remove() as needed.\n",
      "  plt.subplot(57, 4, idx)\n",
      "C:\\Users\\user\\AppData\\Local\\Temp\\ipykernel_17504\\3551681392.py:16: MatplotlibDeprecationWarning: Auto-removal of overlapping axes is deprecated since 3.6 and will be removed two minor releases later; explicitly call ax.remove() as needed.\n",
      "  plt.subplot(57, 4, idx)\n"
     ]
    },
    {
     "name": "stdout",
     "output_type": "stream",
     "text": [
      "sum_sales_card 군집3\n",
      "z_monthly_rental_fee 군집0\n",
      "z_monthly_rental_fee 군집1\n"
     ]
    },
    {
     "name": "stderr",
     "output_type": "stream",
     "text": [
      "C:\\Users\\user\\AppData\\Local\\Temp\\ipykernel_17504\\3551681392.py:16: MatplotlibDeprecationWarning: Auto-removal of overlapping axes is deprecated since 3.6 and will be removed two minor releases later; explicitly call ax.remove() as needed.\n",
      "  plt.subplot(57, 4, idx)\n",
      "C:\\Users\\user\\AppData\\Local\\Temp\\ipykernel_17504\\3551681392.py:16: MatplotlibDeprecationWarning: Auto-removal of overlapping axes is deprecated since 3.6 and will be removed two minor releases later; explicitly call ax.remove() as needed.\n",
      "  plt.subplot(57, 4, idx)\n",
      "C:\\Users\\user\\AppData\\Local\\Temp\\ipykernel_17504\\3551681392.py:16: MatplotlibDeprecationWarning: Auto-removal of overlapping axes is deprecated since 3.6 and will be removed two minor releases later; explicitly call ax.remove() as needed.\n",
      "  plt.subplot(57, 4, idx)\n"
     ]
    },
    {
     "name": "stdout",
     "output_type": "stream",
     "text": [
      "z_monthly_rental_fee 군집2\n",
      "z_monthly_rental_fee 군집3\n",
      "z_sum_purchase_invoice 군집0\n"
     ]
    },
    {
     "name": "stderr",
     "output_type": "stream",
     "text": [
      "C:\\Users\\user\\AppData\\Local\\Temp\\ipykernel_17504\\3551681392.py:16: MatplotlibDeprecationWarning: Auto-removal of overlapping axes is deprecated since 3.6 and will be removed two minor releases later; explicitly call ax.remove() as needed.\n",
      "  plt.subplot(57, 4, idx)\n",
      "C:\\Users\\user\\AppData\\Local\\Temp\\ipykernel_17504\\3551681392.py:16: MatplotlibDeprecationWarning: Auto-removal of overlapping axes is deprecated since 3.6 and will be removed two minor releases later; explicitly call ax.remove() as needed.\n",
      "  plt.subplot(57, 4, idx)\n",
      "C:\\Users\\user\\AppData\\Local\\Temp\\ipykernel_17504\\3551681392.py:16: MatplotlibDeprecationWarning: Auto-removal of overlapping axes is deprecated since 3.6 and will be removed two minor releases later; explicitly call ax.remove() as needed.\n",
      "  plt.subplot(57, 4, idx)\n"
     ]
    },
    {
     "name": "stdout",
     "output_type": "stream",
     "text": [
      "z_sum_purchase_invoice 군집1\n",
      "z_sum_purchase_invoice 군집2\n",
      "z_sum_purchase_invoice 군집3\n"
     ]
    },
    {
     "name": "stderr",
     "output_type": "stream",
     "text": [
      "C:\\Users\\user\\AppData\\Local\\Temp\\ipykernel_17504\\3551681392.py:16: MatplotlibDeprecationWarning: Auto-removal of overlapping axes is deprecated since 3.6 and will be removed two minor releases later; explicitly call ax.remove() as needed.\n",
      "  plt.subplot(57, 4, idx)\n",
      "C:\\Users\\user\\AppData\\Local\\Temp\\ipykernel_17504\\3551681392.py:16: MatplotlibDeprecationWarning: Auto-removal of overlapping axes is deprecated since 3.6 and will be removed two minor releases later; explicitly call ax.remove() as needed.\n",
      "  plt.subplot(57, 4, idx)\n",
      "C:\\Users\\user\\AppData\\Local\\Temp\\ipykernel_17504\\3551681392.py:16: MatplotlibDeprecationWarning: Auto-removal of overlapping axes is deprecated since 3.6 and will be removed two minor releases later; explicitly call ax.remove() as needed.\n",
      "  plt.subplot(57, 4, idx)\n"
     ]
    },
    {
     "name": "stdout",
     "output_type": "stream",
     "text": [
      "sum_new_customer_cnt 군집0\n",
      "sum_new_customer_cnt 군집1\n",
      "sum_new_customer_cnt 군집2\n"
     ]
    },
    {
     "name": "stderr",
     "output_type": "stream",
     "text": [
      "C:\\Users\\user\\AppData\\Local\\Temp\\ipykernel_17504\\3551681392.py:16: MatplotlibDeprecationWarning: Auto-removal of overlapping axes is deprecated since 3.6 and will be removed two minor releases later; explicitly call ax.remove() as needed.\n",
      "  plt.subplot(57, 4, idx)\n",
      "C:\\Users\\user\\AppData\\Local\\Temp\\ipykernel_17504\\3551681392.py:16: MatplotlibDeprecationWarning: Auto-removal of overlapping axes is deprecated since 3.6 and will be removed two minor releases later; explicitly call ax.remove() as needed.\n",
      "  plt.subplot(57, 4, idx)\n",
      "C:\\Users\\user\\AppData\\Local\\Temp\\ipykernel_17504\\3551681392.py:16: MatplotlibDeprecationWarning: Auto-removal of overlapping axes is deprecated since 3.6 and will be removed two minor releases later; explicitly call ax.remove() as needed.\n",
      "  plt.subplot(57, 4, idx)\n"
     ]
    },
    {
     "name": "stdout",
     "output_type": "stream",
     "text": [
      "sum_new_customer_cnt 군집3\n",
      "z_sum_purchase_cash 군집0\n",
      "z_sum_purchase_cash 군집1\n"
     ]
    },
    {
     "name": "stderr",
     "output_type": "stream",
     "text": [
      "C:\\Users\\user\\AppData\\Local\\Temp\\ipykernel_17504\\3551681392.py:16: MatplotlibDeprecationWarning: Auto-removal of overlapping axes is deprecated since 3.6 and will be removed two minor releases later; explicitly call ax.remove() as needed.\n",
      "  plt.subplot(57, 4, idx)\n",
      "C:\\Users\\user\\AppData\\Local\\Temp\\ipykernel_17504\\3551681392.py:16: MatplotlibDeprecationWarning: Auto-removal of overlapping axes is deprecated since 3.6 and will be removed two minor releases later; explicitly call ax.remove() as needed.\n",
      "  plt.subplot(57, 4, idx)\n",
      "C:\\Users\\user\\AppData\\Local\\Temp\\ipykernel_17504\\3551681392.py:16: MatplotlibDeprecationWarning: Auto-removal of overlapping axes is deprecated since 3.6 and will be removed two minor releases later; explicitly call ax.remove() as needed.\n",
      "  plt.subplot(57, 4, idx)\n"
     ]
    },
    {
     "name": "stdout",
     "output_type": "stream",
     "text": [
      "z_sum_purchase_cash 군집2\n",
      "z_sum_purchase_cash 군집3\n",
      "남성_매출_비율 군집0\n"
     ]
    },
    {
     "name": "stderr",
     "output_type": "stream",
     "text": [
      "C:\\Users\\user\\AppData\\Local\\Temp\\ipykernel_17504\\3551681392.py:16: MatplotlibDeprecationWarning: Auto-removal of overlapping axes is deprecated since 3.6 and will be removed two minor releases later; explicitly call ax.remove() as needed.\n",
      "  plt.subplot(57, 4, idx)\n",
      "C:\\Users\\user\\AppData\\Local\\Temp\\ipykernel_17504\\3551681392.py:16: MatplotlibDeprecationWarning: Auto-removal of overlapping axes is deprecated since 3.6 and will be removed two minor releases later; explicitly call ax.remove() as needed.\n",
      "  plt.subplot(57, 4, idx)\n",
      "C:\\Users\\user\\AppData\\Local\\Temp\\ipykernel_17504\\3551681392.py:16: MatplotlibDeprecationWarning: Auto-removal of overlapping axes is deprecated since 3.6 and will be removed two minor releases later; explicitly call ax.remove() as needed.\n",
      "  plt.subplot(57, 4, idx)\n"
     ]
    },
    {
     "name": "stdout",
     "output_type": "stream",
     "text": [
      "남성_매출_비율 군집1\n",
      "남성_매출_비율 군집2\n",
      "남성_매출_비율 군집3\n"
     ]
    },
    {
     "name": "stderr",
     "output_type": "stream",
     "text": [
      "C:\\Users\\user\\AppData\\Local\\Temp\\ipykernel_17504\\3551681392.py:16: MatplotlibDeprecationWarning: Auto-removal of overlapping axes is deprecated since 3.6 and will be removed two minor releases later; explicitly call ax.remove() as needed.\n",
      "  plt.subplot(57, 4, idx)\n",
      "C:\\Users\\user\\AppData\\Local\\Temp\\ipykernel_17504\\3551681392.py:16: MatplotlibDeprecationWarning: Auto-removal of overlapping axes is deprecated since 3.6 and will be removed two minor releases later; explicitly call ax.remove() as needed.\n",
      "  plt.subplot(57, 4, idx)\n",
      "C:\\Users\\user\\AppData\\Local\\Temp\\ipykernel_17504\\3551681392.py:16: MatplotlibDeprecationWarning: Auto-removal of overlapping axes is deprecated since 3.6 and will be removed two minor releases later; explicitly call ax.remove() as needed.\n",
      "  plt.subplot(57, 4, idx)\n"
     ]
    },
    {
     "name": "stdout",
     "output_type": "stream",
     "text": [
      "sum_customer_cnt 군집0\n",
      "sum_customer_cnt 군집1\n",
      "sum_customer_cnt 군집2\n"
     ]
    },
    {
     "name": "stderr",
     "output_type": "stream",
     "text": [
      "C:\\Users\\user\\AppData\\Local\\Temp\\ipykernel_17504\\3551681392.py:16: MatplotlibDeprecationWarning: Auto-removal of overlapping axes is deprecated since 3.6 and will be removed two minor releases later; explicitly call ax.remove() as needed.\n",
      "  plt.subplot(57, 4, idx)\n",
      "C:\\Users\\user\\AppData\\Local\\Temp\\ipykernel_17504\\3551681392.py:16: MatplotlibDeprecationWarning: Auto-removal of overlapping axes is deprecated since 3.6 and will be removed two minor releases later; explicitly call ax.remove() as needed.\n",
      "  plt.subplot(57, 4, idx)\n",
      "C:\\Users\\user\\AppData\\Local\\Temp\\ipykernel_17504\\3551681392.py:16: MatplotlibDeprecationWarning: Auto-removal of overlapping axes is deprecated since 3.6 and will be removed two minor releases later; explicitly call ax.remove() as needed.\n",
      "  plt.subplot(57, 4, idx)\n"
     ]
    },
    {
     "name": "stdout",
     "output_type": "stream",
     "text": [
      "sum_customer_cnt 군집3\n",
      "폐업_영업_개월_평균 군집0\n",
      "폐업_영업_개월_평균 군집1\n"
     ]
    },
    {
     "name": "stderr",
     "output_type": "stream",
     "text": [
      "C:\\Users\\user\\AppData\\Local\\Temp\\ipykernel_17504\\3551681392.py:16: MatplotlibDeprecationWarning: Auto-removal of overlapping axes is deprecated since 3.6 and will be removed two minor releases later; explicitly call ax.remove() as needed.\n",
      "  plt.subplot(57, 4, idx)\n",
      "C:\\Users\\user\\AppData\\Local\\Temp\\ipykernel_17504\\3551681392.py:16: MatplotlibDeprecationWarning: Auto-removal of overlapping axes is deprecated since 3.6 and will be removed two minor releases later; explicitly call ax.remove() as needed.\n",
      "  plt.subplot(57, 4, idx)\n",
      "C:\\Users\\user\\AppData\\Local\\Temp\\ipykernel_17504\\3551681392.py:16: MatplotlibDeprecationWarning: Auto-removal of overlapping axes is deprecated since 3.6 and will be removed two minor releases later; explicitly call ax.remove() as needed.\n",
      "  plt.subplot(57, 4, idx)\n"
     ]
    },
    {
     "name": "stdout",
     "output_type": "stream",
     "text": [
      "폐업_영업_개월_평균 군집2\n",
      "폐업_영업_개월_평균 군집3\n",
      "운영_영업_개월_평균 군집0\n"
     ]
    },
    {
     "name": "stderr",
     "output_type": "stream",
     "text": [
      "C:\\Users\\user\\AppData\\Local\\Temp\\ipykernel_17504\\3551681392.py:16: MatplotlibDeprecationWarning: Auto-removal of overlapping axes is deprecated since 3.6 and will be removed two minor releases later; explicitly call ax.remove() as needed.\n",
      "  plt.subplot(57, 4, idx)\n",
      "C:\\Users\\user\\AppData\\Local\\Temp\\ipykernel_17504\\3551681392.py:16: MatplotlibDeprecationWarning: Auto-removal of overlapping axes is deprecated since 3.6 and will be removed two minor releases later; explicitly call ax.remove() as needed.\n",
      "  plt.subplot(57, 4, idx)\n",
      "C:\\Users\\user\\AppData\\Local\\Temp\\ipykernel_17504\\3551681392.py:16: MatplotlibDeprecationWarning: Auto-removal of overlapping axes is deprecated since 3.6 and will be removed two minor releases later; explicitly call ax.remove() as needed.\n",
      "  plt.subplot(57, 4, idx)\n"
     ]
    },
    {
     "name": "stdout",
     "output_type": "stream",
     "text": [
      "운영_영업_개월_평균 군집1\n",
      "운영_영업_개월_평균 군집2\n",
      "운영_영업_개월_평균 군집3\n"
     ]
    },
    {
     "name": "stderr",
     "output_type": "stream",
     "text": [
      "C:\\Users\\user\\AppData\\Local\\Temp\\ipykernel_17504\\3551681392.py:16: MatplotlibDeprecationWarning: Auto-removal of overlapping axes is deprecated since 3.6 and will be removed two minor releases later; explicitly call ax.remove() as needed.\n",
      "  plt.subplot(57, 4, idx)\n",
      "C:\\Users\\user\\AppData\\Local\\Temp\\ipykernel_17504\\3551681392.py:16: MatplotlibDeprecationWarning: Auto-removal of overlapping axes is deprecated since 3.6 and will be removed two minor releases later; explicitly call ax.remove() as needed.\n",
      "  plt.subplot(57, 4, idx)\n",
      "C:\\Users\\user\\AppData\\Local\\Temp\\ipykernel_17504\\3551681392.py:16: MatplotlibDeprecationWarning: Auto-removal of overlapping axes is deprecated since 3.6 and will be removed two minor releases later; explicitly call ax.remove() as needed.\n",
      "  plt.subplot(57, 4, idx)\n"
     ]
    },
    {
     "name": "stdout",
     "output_type": "stream",
     "text": [
      "연령대_60_이상_매출_비율 군집0\n",
      "연령대_60_이상_매출_비율 군집1\n",
      "연령대_60_이상_매출_비율 군집2\n"
     ]
    },
    {
     "name": "stderr",
     "output_type": "stream",
     "text": [
      "C:\\Users\\user\\AppData\\Local\\Temp\\ipykernel_17504\\3551681392.py:16: MatplotlibDeprecationWarning: Auto-removal of overlapping axes is deprecated since 3.6 and will be removed two minor releases later; explicitly call ax.remove() as needed.\n",
      "  plt.subplot(57, 4, idx)\n",
      "C:\\Users\\user\\AppData\\Local\\Temp\\ipykernel_17504\\3551681392.py:16: MatplotlibDeprecationWarning: Auto-removal of overlapping axes is deprecated since 3.6 and will be removed two minor releases later; explicitly call ax.remove() as needed.\n",
      "  plt.subplot(57, 4, idx)\n",
      "C:\\Users\\user\\AppData\\Local\\Temp\\ipykernel_17504\\3551681392.py:16: MatplotlibDeprecationWarning: Auto-removal of overlapping axes is deprecated since 3.6 and will be removed two minor releases later; explicitly call ax.remove() as needed.\n",
      "  plt.subplot(57, 4, idx)\n"
     ]
    },
    {
     "name": "stdout",
     "output_type": "stream",
     "text": [
      "연령대_60_이상_매출_비율 군집3\n",
      "아파트_면적_165_제곱미터_세대_수 군집0\n",
      "아파트_면적_165_제곱미터_세대_수 군집1\n"
     ]
    },
    {
     "name": "stderr",
     "output_type": "stream",
     "text": [
      "C:\\Users\\user\\AppData\\Local\\Temp\\ipykernel_17504\\3551681392.py:16: MatplotlibDeprecationWarning: Auto-removal of overlapping axes is deprecated since 3.6 and will be removed two minor releases later; explicitly call ax.remove() as needed.\n",
      "  plt.subplot(57, 4, idx)\n",
      "C:\\Users\\user\\AppData\\Local\\Temp\\ipykernel_17504\\3551681392.py:16: MatplotlibDeprecationWarning: Auto-removal of overlapping axes is deprecated since 3.6 and will be removed two minor releases later; explicitly call ax.remove() as needed.\n",
      "  plt.subplot(57, 4, idx)\n",
      "C:\\Users\\user\\AppData\\Local\\Temp\\ipykernel_17504\\3551681392.py:16: MatplotlibDeprecationWarning: Auto-removal of overlapping axes is deprecated since 3.6 and will be removed two minor releases later; explicitly call ax.remove() as needed.\n",
      "  plt.subplot(57, 4, idx)\n"
     ]
    },
    {
     "name": "stdout",
     "output_type": "stream",
     "text": [
      "아파트_면적_165_제곱미터_세대_수 군집2\n",
      "아파트_면적_165_제곱미터_세대_수 군집3\n",
      "수요일_매출_비율 군집0\n"
     ]
    },
    {
     "name": "stderr",
     "output_type": "stream",
     "text": [
      "C:\\Users\\user\\AppData\\Local\\Temp\\ipykernel_17504\\3551681392.py:16: MatplotlibDeprecationWarning: Auto-removal of overlapping axes is deprecated since 3.6 and will be removed two minor releases later; explicitly call ax.remove() as needed.\n",
      "  plt.subplot(57, 4, idx)\n",
      "C:\\Users\\user\\AppData\\Local\\Temp\\ipykernel_17504\\3551681392.py:16: MatplotlibDeprecationWarning: Auto-removal of overlapping axes is deprecated since 3.6 and will be removed two minor releases later; explicitly call ax.remove() as needed.\n",
      "  plt.subplot(57, 4, idx)\n",
      "C:\\Users\\user\\AppData\\Local\\Temp\\ipykernel_17504\\3551681392.py:16: MatplotlibDeprecationWarning: Auto-removal of overlapping axes is deprecated since 3.6 and will be removed two minor releases later; explicitly call ax.remove() as needed.\n",
      "  plt.subplot(57, 4, idx)\n"
     ]
    },
    {
     "name": "stdout",
     "output_type": "stream",
     "text": [
      "수요일_매출_비율 군집1\n",
      "수요일_매출_비율 군집2\n",
      "수요일_매출_비율 군집3\n"
     ]
    },
    {
     "name": "stderr",
     "output_type": "stream",
     "text": [
      "C:\\Users\\user\\AppData\\Local\\Temp\\ipykernel_17504\\3551681392.py:16: MatplotlibDeprecationWarning: Auto-removal of overlapping axes is deprecated since 3.6 and will be removed two minor releases later; explicitly call ax.remove() as needed.\n",
      "  plt.subplot(57, 4, idx)\n",
      "C:\\Users\\user\\AppData\\Local\\Temp\\ipykernel_17504\\3551681392.py:16: MatplotlibDeprecationWarning: Auto-removal of overlapping axes is deprecated since 3.6 and will be removed two minor releases later; explicitly call ax.remove() as needed.\n",
      "  plt.subplot(57, 4, idx)\n",
      "C:\\Users\\user\\AppData\\Local\\Temp\\ipykernel_17504\\3551681392.py:16: MatplotlibDeprecationWarning: Auto-removal of overlapping axes is deprecated since 3.6 and will be removed two minor releases later; explicitly call ax.remove() as needed.\n",
      "  plt.subplot(57, 4, idx)\n"
     ]
    },
    {
     "name": "stdout",
     "output_type": "stream",
     "text": [
      "개업_율 군집0\n",
      "개업_율 군집1\n",
      "개업_율 군집2\n"
     ]
    },
    {
     "name": "stderr",
     "output_type": "stream",
     "text": [
      "C:\\Users\\user\\AppData\\Local\\Temp\\ipykernel_17504\\3551681392.py:16: MatplotlibDeprecationWarning: Auto-removal of overlapping axes is deprecated since 3.6 and will be removed two minor releases later; explicitly call ax.remove() as needed.\n",
      "  plt.subplot(57, 4, idx)\n",
      "C:\\Users\\user\\AppData\\Local\\Temp\\ipykernel_17504\\3551681392.py:16: MatplotlibDeprecationWarning: Auto-removal of overlapping axes is deprecated since 3.6 and will be removed two minor releases later; explicitly call ax.remove() as needed.\n",
      "  plt.subplot(57, 4, idx)\n",
      "C:\\Users\\user\\AppData\\Local\\Temp\\ipykernel_17504\\3551681392.py:16: MatplotlibDeprecationWarning: Auto-removal of overlapping axes is deprecated since 3.6 and will be removed two minor releases later; explicitly call ax.remove() as needed.\n",
      "  plt.subplot(57, 4, idx)\n"
     ]
    },
    {
     "name": "stdout",
     "output_type": "stream",
     "text": [
      "개업_율 군집3\n",
      "버스_정거장_수 군집0\n",
      "버스_정거장_수 군집1\n"
     ]
    },
    {
     "name": "stderr",
     "output_type": "stream",
     "text": [
      "C:\\Users\\user\\AppData\\Local\\Temp\\ipykernel_17504\\3551681392.py:16: MatplotlibDeprecationWarning: Auto-removal of overlapping axes is deprecated since 3.6 and will be removed two minor releases later; explicitly call ax.remove() as needed.\n",
      "  plt.subplot(57, 4, idx)\n",
      "C:\\Users\\user\\AppData\\Local\\Temp\\ipykernel_17504\\3551681392.py:16: MatplotlibDeprecationWarning: Auto-removal of overlapping axes is deprecated since 3.6 and will be removed two minor releases later; explicitly call ax.remove() as needed.\n",
      "  plt.subplot(57, 4, idx)\n",
      "C:\\Users\\user\\AppData\\Local\\Temp\\ipykernel_17504\\3551681392.py:16: MatplotlibDeprecationWarning: Auto-removal of overlapping axes is deprecated since 3.6 and will be removed two minor releases later; explicitly call ax.remove() as needed.\n",
      "  plt.subplot(57, 4, idx)\n"
     ]
    },
    {
     "name": "stdout",
     "output_type": "stream",
     "text": [
      "버스_정거장_수 군집2\n",
      "버스_정거장_수 군집3\n",
      "관공서_수 군집0\n"
     ]
    },
    {
     "name": "stderr",
     "output_type": "stream",
     "text": [
      "C:\\Users\\user\\AppData\\Local\\Temp\\ipykernel_17504\\3551681392.py:16: MatplotlibDeprecationWarning: Auto-removal of overlapping axes is deprecated since 3.6 and will be removed two minor releases later; explicitly call ax.remove() as needed.\n",
      "  plt.subplot(57, 4, idx)\n",
      "C:\\Users\\user\\AppData\\Local\\Temp\\ipykernel_17504\\3551681392.py:16: MatplotlibDeprecationWarning: Auto-removal of overlapping axes is deprecated since 3.6 and will be removed two minor releases later; explicitly call ax.remove() as needed.\n",
      "  plt.subplot(57, 4, idx)\n",
      "C:\\Users\\user\\AppData\\Local\\Temp\\ipykernel_17504\\3551681392.py:16: MatplotlibDeprecationWarning: Auto-removal of overlapping axes is deprecated since 3.6 and will be removed two minor releases later; explicitly call ax.remove() as needed.\n",
      "  plt.subplot(57, 4, idx)\n"
     ]
    },
    {
     "name": "stdout",
     "output_type": "stream",
     "text": [
      "관공서_수 군집1\n",
      "관공서_수 군집2\n"
     ]
    },
    {
     "name": "stderr",
     "output_type": "stream",
     "text": [
      "C:\\Users\\user\\AppData\\Local\\Temp\\ipykernel_17504\\3551681392.py:16: MatplotlibDeprecationWarning: Auto-removal of overlapping axes is deprecated since 3.6 and will be removed two minor releases later; explicitly call ax.remove() as needed.\n",
      "  plt.subplot(57, 4, idx)\n",
      "C:\\Users\\user\\AppData\\Local\\Temp\\ipykernel_17504\\3551681392.py:16: MatplotlibDeprecationWarning: Auto-removal of overlapping axes is deprecated since 3.6 and will be removed two minor releases later; explicitly call ax.remove() as needed.\n",
      "  plt.subplot(57, 4, idx)\n",
      "C:\\Users\\user\\AppData\\Local\\Temp\\ipykernel_17504\\3551681392.py:16: MatplotlibDeprecationWarning: Auto-removal of overlapping axes is deprecated since 3.6 and will be removed two minor releases later; explicitly call ax.remove() as needed.\n",
      "  plt.subplot(57, 4, idx)\n"
     ]
    },
    {
     "name": "stdout",
     "output_type": "stream",
     "text": [
      "관공서_수 군집3\n",
      "regular_employees_count 군집0\n",
      "regular_employees_count 군집1\n"
     ]
    },
    {
     "name": "stderr",
     "output_type": "stream",
     "text": [
      "C:\\Users\\user\\AppData\\Local\\Temp\\ipykernel_17504\\3551681392.py:16: MatplotlibDeprecationWarning: Auto-removal of overlapping axes is deprecated since 3.6 and will be removed two minor releases later; explicitly call ax.remove() as needed.\n",
      "  plt.subplot(57, 4, idx)\n",
      "C:\\Users\\user\\AppData\\Local\\Temp\\ipykernel_17504\\3551681392.py:16: MatplotlibDeprecationWarning: Auto-removal of overlapping axes is deprecated since 3.6 and will be removed two minor releases later; explicitly call ax.remove() as needed.\n",
      "  plt.subplot(57, 4, idx)\n",
      "C:\\Users\\user\\AppData\\Local\\Temp\\ipykernel_17504\\3551681392.py:16: MatplotlibDeprecationWarning: Auto-removal of overlapping axes is deprecated since 3.6 and will be removed two minor releases later; explicitly call ax.remove() as needed.\n",
      "  plt.subplot(57, 4, idx)\n"
     ]
    },
    {
     "name": "stdout",
     "output_type": "stream",
     "text": [
      "regular_employees_count 군집2\n",
      "regular_employees_count 군집3\n",
      "age 군집0\n"
     ]
    },
    {
     "name": "stderr",
     "output_type": "stream",
     "text": [
      "C:\\Users\\user\\AppData\\Local\\Temp\\ipykernel_17504\\3551681392.py:16: MatplotlibDeprecationWarning: Auto-removal of overlapping axes is deprecated since 3.6 and will be removed two minor releases later; explicitly call ax.remove() as needed.\n",
      "  plt.subplot(57, 4, idx)\n",
      "C:\\Users\\user\\AppData\\Local\\Temp\\ipykernel_17504\\3551681392.py:16: MatplotlibDeprecationWarning: Auto-removal of overlapping axes is deprecated since 3.6 and will be removed two minor releases later; explicitly call ax.remove() as needed.\n",
      "  plt.subplot(57, 4, idx)\n",
      "C:\\Users\\user\\AppData\\Local\\Temp\\ipykernel_17504\\3551681392.py:16: MatplotlibDeprecationWarning: Auto-removal of overlapping axes is deprecated since 3.6 and will be removed two minor releases later; explicitly call ax.remove() as needed.\n",
      "  plt.subplot(57, 4, idx)\n"
     ]
    },
    {
     "name": "stdout",
     "output_type": "stream",
     "text": [
      "age 군집1\n",
      "age 군집2\n",
      "age 군집3\n"
     ]
    },
    {
     "name": "stderr",
     "output_type": "stream",
     "text": [
      "C:\\Users\\user\\AppData\\Local\\Temp\\ipykernel_17504\\3551681392.py:16: MatplotlibDeprecationWarning: Auto-removal of overlapping axes is deprecated since 3.6 and will be removed two minor releases later; explicitly call ax.remove() as needed.\n",
      "  plt.subplot(57, 4, idx)\n",
      "C:\\Users\\user\\AppData\\Local\\Temp\\ipykernel_17504\\3551681392.py:16: MatplotlibDeprecationWarning: Auto-removal of overlapping axes is deprecated since 3.6 and will be removed two minor releases later; explicitly call ax.remove() as needed.\n",
      "  plt.subplot(57, 4, idx)\n",
      "C:\\Users\\user\\AppData\\Local\\Temp\\ipykernel_17504\\3551681392.py:16: MatplotlibDeprecationWarning: Auto-removal of overlapping axes is deprecated since 3.6 and will be removed two minor releases later; explicitly call ax.remove() as needed.\n",
      "  plt.subplot(57, 4, idx)\n"
     ]
    },
    {
     "name": "stdout",
     "output_type": "stream",
     "text": [
      "월요일_매출_비율 군집0\n",
      "월요일_매출_비율 군집1\n",
      "월요일_매출_비율 군집2\n"
     ]
    },
    {
     "name": "stderr",
     "output_type": "stream",
     "text": [
      "C:\\Users\\user\\AppData\\Local\\Temp\\ipykernel_17504\\3551681392.py:16: MatplotlibDeprecationWarning: Auto-removal of overlapping axes is deprecated since 3.6 and will be removed two minor releases later; explicitly call ax.remove() as needed.\n",
      "  plt.subplot(57, 4, idx)\n",
      "C:\\Users\\user\\AppData\\Local\\Temp\\ipykernel_17504\\3551681392.py:16: MatplotlibDeprecationWarning: Auto-removal of overlapping axes is deprecated since 3.6 and will be removed two minor releases later; explicitly call ax.remove() as needed.\n",
      "  plt.subplot(57, 4, idx)\n",
      "C:\\Users\\user\\AppData\\Local\\Temp\\ipykernel_17504\\3551681392.py:16: MatplotlibDeprecationWarning: Auto-removal of overlapping axes is deprecated since 3.6 and will be removed two minor releases later; explicitly call ax.remove() as needed.\n",
      "  plt.subplot(57, 4, idx)\n"
     ]
    },
    {
     "name": "stdout",
     "output_type": "stream",
     "text": [
      "월요일_매출_비율 군집3\n",
      "시간대_21~24_매출_비율 군집0\n",
      "시간대_21~24_매출_비율 군집1\n"
     ]
    },
    {
     "name": "stderr",
     "output_type": "stream",
     "text": [
      "C:\\Users\\user\\AppData\\Local\\Temp\\ipykernel_17504\\3551681392.py:16: MatplotlibDeprecationWarning: Auto-removal of overlapping axes is deprecated since 3.6 and will be removed two minor releases later; explicitly call ax.remove() as needed.\n",
      "  plt.subplot(57, 4, idx)\n",
      "C:\\Users\\user\\AppData\\Local\\Temp\\ipykernel_17504\\3551681392.py:16: MatplotlibDeprecationWarning: Auto-removal of overlapping axes is deprecated since 3.6 and will be removed two minor releases later; explicitly call ax.remove() as needed.\n",
      "  plt.subplot(57, 4, idx)\n",
      "C:\\Users\\user\\AppData\\Local\\Temp\\ipykernel_17504\\3551681392.py:16: MatplotlibDeprecationWarning: Auto-removal of overlapping axes is deprecated since 3.6 and will be removed two minor releases later; explicitly call ax.remove() as needed.\n",
      "  plt.subplot(57, 4, idx)\n"
     ]
    },
    {
     "name": "stdout",
     "output_type": "stream",
     "text": [
      "시간대_21~24_매출_비율 군집2\n",
      "시간대_21~24_매출_비율 군집3\n",
      "연령대_30_매출_비율 군집0\n"
     ]
    },
    {
     "name": "stderr",
     "output_type": "stream",
     "text": [
      "C:\\Users\\user\\AppData\\Local\\Temp\\ipykernel_17504\\3551681392.py:16: MatplotlibDeprecationWarning: Auto-removal of overlapping axes is deprecated since 3.6 and will be removed two minor releases later; explicitly call ax.remove() as needed.\n",
      "  plt.subplot(57, 4, idx)\n",
      "C:\\Users\\user\\AppData\\Local\\Temp\\ipykernel_17504\\3551681392.py:16: MatplotlibDeprecationWarning: Auto-removal of overlapping axes is deprecated since 3.6 and will be removed two minor releases later; explicitly call ax.remove() as needed.\n",
      "  plt.subplot(57, 4, idx)\n",
      "C:\\Users\\user\\AppData\\Local\\Temp\\ipykernel_17504\\3551681392.py:16: MatplotlibDeprecationWarning: Auto-removal of overlapping axes is deprecated since 3.6 and will be removed two minor releases later; explicitly call ax.remove() as needed.\n",
      "  plt.subplot(57, 4, idx)\n"
     ]
    },
    {
     "name": "stdout",
     "output_type": "stream",
     "text": [
      "연령대_30_매출_비율 군집1\n",
      "연령대_30_매출_비율 군집2\n",
      "연령대_30_매출_비율 군집3\n"
     ]
    },
    {
     "name": "stderr",
     "output_type": "stream",
     "text": [
      "C:\\Users\\user\\AppData\\Local\\Temp\\ipykernel_17504\\3551681392.py:16: MatplotlibDeprecationWarning: Auto-removal of overlapping axes is deprecated since 3.6 and will be removed two minor releases later; explicitly call ax.remove() as needed.\n",
      "  plt.subplot(57, 4, idx)\n",
      "C:\\Users\\user\\AppData\\Local\\Temp\\ipykernel_17504\\3551681392.py:16: MatplotlibDeprecationWarning: Auto-removal of overlapping axes is deprecated since 3.6 and will be removed two minor releases later; explicitly call ax.remove() as needed.\n",
      "  plt.subplot(57, 4, idx)\n",
      "C:\\Users\\user\\AppData\\Local\\Temp\\ipykernel_17504\\3551681392.py:16: MatplotlibDeprecationWarning: Auto-removal of overlapping axes is deprecated since 3.6 and will be removed two minor releases later; explicitly call ax.remove() as needed.\n",
      "  plt.subplot(57, 4, idx)\n"
     ]
    },
    {
     "name": "stdout",
     "output_type": "stream",
     "text": [
      "아파트_가격_6_억_이상_세대_수 군집0\n",
      "아파트_가격_6_억_이상_세대_수 군집1\n",
      "아파트_가격_6_억_이상_세대_수 군집2\n"
     ]
    },
    {
     "name": "stderr",
     "output_type": "stream",
     "text": [
      "C:\\Users\\user\\AppData\\Local\\Temp\\ipykernel_17504\\3551681392.py:16: MatplotlibDeprecationWarning: Auto-removal of overlapping axes is deprecated since 3.6 and will be removed two minor releases later; explicitly call ax.remove() as needed.\n",
      "  plt.subplot(57, 4, idx)\n",
      "C:\\Users\\user\\AppData\\Local\\Temp\\ipykernel_17504\\3551681392.py:16: MatplotlibDeprecationWarning: Auto-removal of overlapping axes is deprecated since 3.6 and will be removed two minor releases later; explicitly call ax.remove() as needed.\n",
      "  plt.subplot(57, 4, idx)\n",
      "C:\\Users\\user\\AppData\\Local\\Temp\\ipykernel_17504\\3551681392.py:16: MatplotlibDeprecationWarning: Auto-removal of overlapping axes is deprecated since 3.6 and will be removed two minor releases later; explicitly call ax.remove() as needed.\n",
      "  plt.subplot(57, 4, idx)\n"
     ]
    },
    {
     "name": "stdout",
     "output_type": "stream",
     "text": [
      "아파트_가격_6_억_이상_세대_수 군집3\n",
      "연령대_40_매출_비율 군집0\n",
      "연령대_40_매출_비율 군집1\n"
     ]
    },
    {
     "name": "stderr",
     "output_type": "stream",
     "text": [
      "C:\\Users\\user\\AppData\\Local\\Temp\\ipykernel_17504\\3551681392.py:16: MatplotlibDeprecationWarning: Auto-removal of overlapping axes is deprecated since 3.6 and will be removed two minor releases later; explicitly call ax.remove() as needed.\n",
      "  plt.subplot(57, 4, idx)\n",
      "C:\\Users\\user\\AppData\\Local\\Temp\\ipykernel_17504\\3551681392.py:16: MatplotlibDeprecationWarning: Auto-removal of overlapping axes is deprecated since 3.6 and will be removed two minor releases later; explicitly call ax.remove() as needed.\n",
      "  plt.subplot(57, 4, idx)\n",
      "C:\\Users\\user\\AppData\\Local\\Temp\\ipykernel_17504\\3551681392.py:16: MatplotlibDeprecationWarning: Auto-removal of overlapping axes is deprecated since 3.6 and will be removed two minor releases later; explicitly call ax.remove() as needed.\n",
      "  plt.subplot(57, 4, idx)\n"
     ]
    },
    {
     "name": "stdout",
     "output_type": "stream",
     "text": [
      "연령대_40_매출_비율 군집2\n",
      "연령대_40_매출_비율 군집3\n",
      "대학교_수 군집0\n"
     ]
    },
    {
     "name": "stderr",
     "output_type": "stream",
     "text": [
      "C:\\Users\\user\\AppData\\Local\\Temp\\ipykernel_17504\\3551681392.py:16: MatplotlibDeprecationWarning: Auto-removal of overlapping axes is deprecated since 3.6 and will be removed two minor releases later; explicitly call ax.remove() as needed.\n",
      "  plt.subplot(57, 4, idx)\n",
      "c:\\Users\\user\\anaconda3\\Lib\\site-packages\\scipy\\stats\\_distn_infrastructure.py:2093: RuntimeWarning: divide by zero encountered in divide\n",
      "  x = np.asarray((x - loc)/scale, dtype=dtyp)\n",
      "C:\\Users\\user\\AppData\\Local\\Temp\\ipykernel_17504\\3551681392.py:16: MatplotlibDeprecationWarning: Auto-removal of overlapping axes is deprecated since 3.6 and will be removed two minor releases later; explicitly call ax.remove() as needed.\n",
      "  plt.subplot(57, 4, idx)\n",
      "C:\\Users\\user\\AppData\\Local\\Temp\\ipykernel_17504\\3551681392.py:16: MatplotlibDeprecationWarning: Auto-removal of overlapping axes is deprecated since 3.6 and will be removed two minor releases later; explicitly call ax.remove() as needed.\n",
      "  plt.subplot(57, 4, idx)\n"
     ]
    },
    {
     "name": "stdout",
     "output_type": "stream",
     "text": [
      "대학교_수 군집1\n",
      "대학교_수 군집2\n",
      "대학교_수 군집3\n"
     ]
    },
    {
     "name": "stderr",
     "output_type": "stream",
     "text": [
      "C:\\Users\\user\\AppData\\Local\\Temp\\ipykernel_17504\\3551681392.py:16: MatplotlibDeprecationWarning: Auto-removal of overlapping axes is deprecated since 3.6 and will be removed two minor releases later; explicitly call ax.remove() as needed.\n",
      "  plt.subplot(57, 4, idx)\n",
      "C:\\Users\\user\\AppData\\Local\\Temp\\ipykernel_17504\\3551681392.py:16: MatplotlibDeprecationWarning: Auto-removal of overlapping axes is deprecated since 3.6 and will be removed two minor releases later; explicitly call ax.remove() as needed.\n",
      "  plt.subplot(57, 4, idx)\n",
      "c:\\Users\\user\\anaconda3\\Lib\\site-packages\\scipy\\stats\\_distn_infrastructure.py:2093: RuntimeWarning: divide by zero encountered in divide\n",
      "  x = np.asarray((x - loc)/scale, dtype=dtyp)\n",
      "C:\\Users\\user\\AppData\\Local\\Temp\\ipykernel_17504\\3551681392.py:16: MatplotlibDeprecationWarning: Auto-removal of overlapping axes is deprecated since 3.6 and will be removed two minor releases later; explicitly call ax.remove() as needed.\n",
      "  plt.subplot(57, 4, idx)\n"
     ]
    },
    {
     "name": "stdout",
     "output_type": "stream",
     "text": [
      "여성연령대_50_직장_인구_수 군집0\n",
      "여성연령대_50_직장_인구_수 군집1\n",
      "여성연령대_50_직장_인구_수 군집2\n"
     ]
    },
    {
     "name": "stderr",
     "output_type": "stream",
     "text": [
      "C:\\Users\\user\\AppData\\Local\\Temp\\ipykernel_17504\\3551681392.py:16: MatplotlibDeprecationWarning: Auto-removal of overlapping axes is deprecated since 3.6 and will be removed two minor releases later; explicitly call ax.remove() as needed.\n",
      "  plt.subplot(57, 4, idx)\n",
      "C:\\Users\\user\\AppData\\Local\\Temp\\ipykernel_17504\\3551681392.py:16: MatplotlibDeprecationWarning: Auto-removal of overlapping axes is deprecated since 3.6 and will be removed two minor releases later; explicitly call ax.remove() as needed.\n",
      "  plt.subplot(57, 4, idx)\n",
      "C:\\Users\\user\\AppData\\Local\\Temp\\ipykernel_17504\\3551681392.py:16: MatplotlibDeprecationWarning: Auto-removal of overlapping axes is deprecated since 3.6 and will be removed two minor releases later; explicitly call ax.remove() as needed.\n",
      "  plt.subplot(57, 4, idx)\n"
     ]
    },
    {
     "name": "stdout",
     "output_type": "stream",
     "text": [
      "여성연령대_50_직장_인구_수 군집3\n",
      "폐업_율 군집0\n",
      "폐업_율 군집1\n"
     ]
    },
    {
     "name": "stderr",
     "output_type": "stream",
     "text": [
      "C:\\Users\\user\\AppData\\Local\\Temp\\ipykernel_17504\\3551681392.py:16: MatplotlibDeprecationWarning: Auto-removal of overlapping axes is deprecated since 3.6 and will be removed two minor releases later; explicitly call ax.remove() as needed.\n",
      "  plt.subplot(57, 4, idx)\n",
      "C:\\Users\\user\\AppData\\Local\\Temp\\ipykernel_17504\\3551681392.py:16: MatplotlibDeprecationWarning: Auto-removal of overlapping axes is deprecated since 3.6 and will be removed two minor releases later; explicitly call ax.remove() as needed.\n",
      "  plt.subplot(57, 4, idx)\n",
      "C:\\Users\\user\\AppData\\Local\\Temp\\ipykernel_17504\\3551681392.py:16: MatplotlibDeprecationWarning: Auto-removal of overlapping axes is deprecated since 3.6 and will be removed two minor releases later; explicitly call ax.remove() as needed.\n",
      "  plt.subplot(57, 4, idx)\n"
     ]
    },
    {
     "name": "stdout",
     "output_type": "stream",
     "text": [
      "폐업_율 군집2\n",
      "폐업_율 군집3\n",
      "여성_매출_비율 군집0\n"
     ]
    },
    {
     "name": "stderr",
     "output_type": "stream",
     "text": [
      "C:\\Users\\user\\AppData\\Local\\Temp\\ipykernel_17504\\3551681392.py:16: MatplotlibDeprecationWarning: Auto-removal of overlapping axes is deprecated since 3.6 and will be removed two minor releases later; explicitly call ax.remove() as needed.\n",
      "  plt.subplot(57, 4, idx)\n",
      "C:\\Users\\user\\AppData\\Local\\Temp\\ipykernel_17504\\3551681392.py:16: MatplotlibDeprecationWarning: Auto-removal of overlapping axes is deprecated since 3.6 and will be removed two minor releases later; explicitly call ax.remove() as needed.\n",
      "  plt.subplot(57, 4, idx)\n",
      "C:\\Users\\user\\AppData\\Local\\Temp\\ipykernel_17504\\3551681392.py:16: MatplotlibDeprecationWarning: Auto-removal of overlapping axes is deprecated since 3.6 and will be removed two minor releases later; explicitly call ax.remove() as needed.\n",
      "  plt.subplot(57, 4, idx)\n"
     ]
    },
    {
     "name": "stdout",
     "output_type": "stream",
     "text": [
      "여성_매출_비율 군집1\n",
      "여성_매출_비율 군집2\n",
      "여성_매출_비율 군집3\n"
     ]
    },
    {
     "name": "stderr",
     "output_type": "stream",
     "text": [
      "C:\\Users\\user\\AppData\\Local\\Temp\\ipykernel_17504\\3551681392.py:16: MatplotlibDeprecationWarning: Auto-removal of overlapping axes is deprecated since 3.6 and will be removed two minor releases later; explicitly call ax.remove() as needed.\n",
      "  plt.subplot(57, 4, idx)\n",
      "C:\\Users\\user\\AppData\\Local\\Temp\\ipykernel_17504\\3551681392.py:16: MatplotlibDeprecationWarning: Auto-removal of overlapping axes is deprecated since 3.6 and will be removed two minor releases later; explicitly call ax.remove() as needed.\n",
      "  plt.subplot(57, 4, idx)\n",
      "C:\\Users\\user\\AppData\\Local\\Temp\\ipykernel_17504\\3551681392.py:16: MatplotlibDeprecationWarning: Auto-removal of overlapping axes is deprecated since 3.6 and will be removed two minor releases later; explicitly call ax.remove() as needed.\n",
      "  plt.subplot(57, 4, idx)\n"
     ]
    },
    {
     "name": "stdout",
     "output_type": "stream",
     "text": [
      "z_sum_sales_delivery 군집0\n",
      "z_sum_sales_delivery 군집1\n",
      "z_sum_sales_delivery 군집2\n"
     ]
    },
    {
     "name": "stderr",
     "output_type": "stream",
     "text": [
      "C:\\Users\\user\\AppData\\Local\\Temp\\ipykernel_17504\\3551681392.py:16: MatplotlibDeprecationWarning: Auto-removal of overlapping axes is deprecated since 3.6 and will be removed two minor releases later; explicitly call ax.remove() as needed.\n",
      "  plt.subplot(57, 4, idx)\n",
      "C:\\Users\\user\\AppData\\Local\\Temp\\ipykernel_17504\\3551681392.py:16: MatplotlibDeprecationWarning: Auto-removal of overlapping axes is deprecated since 3.6 and will be removed two minor releases later; explicitly call ax.remove() as needed.\n",
      "  plt.subplot(57, 4, idx)\n",
      "C:\\Users\\user\\AppData\\Local\\Temp\\ipykernel_17504\\3551681392.py:16: MatplotlibDeprecationWarning: Auto-removal of overlapping axes is deprecated since 3.6 and will be removed two minor releases later; explicitly call ax.remove() as needed.\n",
      "  plt.subplot(57, 4, idx)\n"
     ]
    },
    {
     "name": "stdout",
     "output_type": "stream",
     "text": [
      "z_sum_sales_delivery 군집3\n",
      "목요일_매출_비율 군집0\n",
      "목요일_매출_비율 군집1\n"
     ]
    },
    {
     "name": "stderr",
     "output_type": "stream",
     "text": [
      "C:\\Users\\user\\AppData\\Local\\Temp\\ipykernel_17504\\3551681392.py:16: MatplotlibDeprecationWarning: Auto-removal of overlapping axes is deprecated since 3.6 and will be removed two minor releases later; explicitly call ax.remove() as needed.\n",
      "  plt.subplot(57, 4, idx)\n",
      "C:\\Users\\user\\AppData\\Local\\Temp\\ipykernel_17504\\3551681392.py:16: MatplotlibDeprecationWarning: Auto-removal of overlapping axes is deprecated since 3.6 and will be removed two minor releases later; explicitly call ax.remove() as needed.\n",
      "  plt.subplot(57, 4, idx)\n",
      "C:\\Users\\user\\AppData\\Local\\Temp\\ipykernel_17504\\3551681392.py:16: MatplotlibDeprecationWarning: Auto-removal of overlapping axes is deprecated since 3.6 and will be removed two minor releases later; explicitly call ax.remove() as needed.\n",
      "  plt.subplot(57, 4, idx)\n"
     ]
    },
    {
     "name": "stdout",
     "output_type": "stream",
     "text": [
      "목요일_매출_비율 군집2\n",
      "목요일_매출_비율 군집3\n"
     ]
    },
    {
     "name": "stderr",
     "output_type": "stream",
     "text": [
      "C:\\Users\\user\\AppData\\Local\\Temp\\ipykernel_17504\\3551681392.py:16: MatplotlibDeprecationWarning: Auto-removal of overlapping axes is deprecated since 3.6 and will be removed two minor releases later; explicitly call ax.remove() as needed.\n",
      "  plt.subplot(57, 4, idx)\n",
      "C:\\Users\\user\\AppData\\Local\\Temp\\ipykernel_17504\\3551681392.py:16: MatplotlibDeprecationWarning: Auto-removal of overlapping axes is deprecated since 3.6 and will be removed two minor releases later; explicitly call ax.remove() as needed.\n",
      "  plt.subplot(57, 4, idx)\n",
      "C:\\Users\\user\\AppData\\Local\\Temp\\ipykernel_17504\\3551681392.py:16: MatplotlibDeprecationWarning: Auto-removal of overlapping axes is deprecated since 3.6 and will be removed two minor releases later; explicitly call ax.remove() as needed.\n",
      "  plt.subplot(57, 4, idx)\n"
     ]
    },
    {
     "name": "stdout",
     "output_type": "stream",
     "text": [
      "소득_구간_코드 군집0\n",
      "소득_구간_코드 군집1\n",
      "소득_구간_코드 군집2\n",
      "소득_구간_코드 군집3\n"
     ]
    },
    {
     "name": "stderr",
     "output_type": "stream",
     "text": [
      "C:\\Users\\user\\AppData\\Local\\Temp\\ipykernel_17504\\3551681392.py:16: MatplotlibDeprecationWarning: Auto-removal of overlapping axes is deprecated since 3.6 and will be removed two minor releases later; explicitly call ax.remove() as needed.\n",
      "  plt.subplot(57, 4, idx)\n"
     ]
    },
    {
     "ename": "IndexError",
     "evalue": "single positional indexer is out-of-bounds",
     "output_type": "error",
     "traceback": [
      "\u001b[1;31m---------------------------------------------------------------------------\u001b[0m",
      "\u001b[1;31mIndexError\u001b[0m                                Traceback (most recent call last)",
      "\u001b[1;32mc:\\Users\\user\\Desktop\\BDA\\데이터팀\\DML - 빅콘\\Jupyter_Notebook\\features_avg_std.ipynb 셀 7\u001b[0m line \u001b[0;36m1\n\u001b[0;32m      <a href='vscode-notebook-cell:/c%3A/Users/user/Desktop/BDA/%EB%8D%B0%EC%9D%B4%ED%84%B0%ED%8C%80/DML%20-%20%EB%B9%85%EC%BD%98/Jupyter_Notebook/features_avg_std.ipynb#X13sZmlsZQ%3D%3D?line=8'>9</a>\u001b[0m \u001b[39mfor\u001b[39;00m cluster \u001b[39min\u001b[39;00m clusters:\n\u001b[0;32m     <a href='vscode-notebook-cell:/c%3A/Users/user/Desktop/BDA/%EB%8D%B0%EC%9D%B4%ED%84%B0%ED%8C%80/DML%20-%20%EB%B9%85%EC%BD%98/Jupyter_Notebook/features_avg_std.ipynb#X13sZmlsZQ%3D%3D?line=9'>10</a>\u001b[0m     idx \u001b[39m+\u001b[39m\u001b[39m=\u001b[39m \u001b[39m1\u001b[39m\n\u001b[1;32m---> <a href='vscode-notebook-cell:/c%3A/Users/user/Desktop/BDA/%EB%8D%B0%EC%9D%B4%ED%84%B0%ED%8C%80/DML%20-%20%EB%B9%85%EC%BD%98/Jupyter_Notebook/features_avg_std.ipynb#X13sZmlsZQ%3D%3D?line=10'>11</a>\u001b[0m     visualize_plot(feature, cluster, idx)\n\u001b[0;32m     <a href='vscode-notebook-cell:/c%3A/Users/user/Desktop/BDA/%EB%8D%B0%EC%9D%B4%ED%84%B0%ED%8C%80/DML%20-%20%EB%B9%85%EC%BD%98/Jupyter_Notebook/features_avg_std.ipynb#X13sZmlsZQ%3D%3D?line=11'>12</a>\u001b[0m     \u001b[39mprint\u001b[39m(feature, cluster)\n",
      "\u001b[1;32mc:\\Users\\user\\Desktop\\BDA\\데이터팀\\DML - 빅콘\\Jupyter_Notebook\\features_avg_std.ipynb 셀 7\u001b[0m line \u001b[0;36m9\n\u001b[0;32m      <a href='vscode-notebook-cell:/c%3A/Users/user/Desktop/BDA/%EB%8D%B0%EC%9D%B4%ED%84%B0%ED%8C%80/DML%20-%20%EB%B9%85%EC%BD%98/Jupyter_Notebook/features_avg_std.ipynb#X13sZmlsZQ%3D%3D?line=5'>6</a>\u001b[0m \u001b[39mif\u001b[39;00m \u001b[39mlen\u001b[39m(risky0)\u001b[39m==\u001b[39m\u001b[39m0\u001b[39m \u001b[39mand\u001b[39;00m \u001b[39mlen\u001b[39m(risky1)\u001b[39m==\u001b[39m\u001b[39m0\u001b[39m:\n\u001b[0;32m      <a href='vscode-notebook-cell:/c%3A/Users/user/Desktop/BDA/%EB%8D%B0%EC%9D%B4%ED%84%B0%ED%8C%80/DML%20-%20%EB%B9%85%EC%BD%98/Jupyter_Notebook/features_avg_std.ipynb#X13sZmlsZQ%3D%3D?line=6'>7</a>\u001b[0m     \u001b[39mreturn\u001b[39;00m\n\u001b[1;32m----> <a href='vscode-notebook-cell:/c%3A/Users/user/Desktop/BDA/%EB%8D%B0%EC%9D%B4%ED%84%B0%ED%8C%80/DML%20-%20%EB%B9%85%EC%BD%98/Jupyter_Notebook/features_avg_std.ipynb#X13sZmlsZQ%3D%3D?line=8'>9</a>\u001b[0m avg0, avg1 \u001b[39m=\u001b[39m risky0[\u001b[39m'\u001b[39m\u001b[39m평균\u001b[39m\u001b[39m'\u001b[39m]\u001b[39m.\u001b[39miloc[\u001b[39m0\u001b[39m], risky1[\u001b[39m'\u001b[39m\u001b[39m평균\u001b[39m\u001b[39m'\u001b[39m]\u001b[39m.\u001b[39miloc[\u001b[39m0\u001b[39m]\n\u001b[0;32m     <a href='vscode-notebook-cell:/c%3A/Users/user/Desktop/BDA/%EB%8D%B0%EC%9D%B4%ED%84%B0%ED%8C%80/DML%20-%20%EB%B9%85%EC%BD%98/Jupyter_Notebook/features_avg_std.ipynb#X13sZmlsZQ%3D%3D?line=9'>10</a>\u001b[0m std0, std1 \u001b[39m=\u001b[39m risky0[\u001b[39m'\u001b[39m\u001b[39m표준편차\u001b[39m\u001b[39m'\u001b[39m]\u001b[39m.\u001b[39miloc[\u001b[39m0\u001b[39m], risky1[\u001b[39m'\u001b[39m\u001b[39m표준편차\u001b[39m\u001b[39m'\u001b[39m]\u001b[39m.\u001b[39miloc[\u001b[39m0\u001b[39m]\n\u001b[0;32m     <a href='vscode-notebook-cell:/c%3A/Users/user/Desktop/BDA/%EB%8D%B0%EC%9D%B4%ED%84%B0%ED%8C%80/DML%20-%20%EB%B9%85%EC%BD%98/Jupyter_Notebook/features_avg_std.ipynb#X13sZmlsZQ%3D%3D?line=11'>12</a>\u001b[0m x_start \u001b[39m=\u001b[39m \u001b[39m-\u001b[39m\u001b[39m3\u001b[39m\u001b[39m*\u001b[39mstd0 \u001b[39m+\u001b[39m avg0 \u001b[39mif\u001b[39;00m ((\u001b[39m-\u001b[39m\u001b[39m3\u001b[39m\u001b[39m*\u001b[39mstd0 \u001b[39m+\u001b[39m avg0) \u001b[39m<\u001b[39m (\u001b[39m-\u001b[39m\u001b[39m3\u001b[39m\u001b[39m*\u001b[39mstd1 \u001b[39m+\u001b[39m avg1)) \u001b[39melse\u001b[39;00m \u001b[39m-\u001b[39m\u001b[39m3\u001b[39m\u001b[39m*\u001b[39mstd1 \u001b[39m+\u001b[39m avg1\n",
      "File \u001b[1;32mc:\\Users\\user\\anaconda3\\Lib\\site-packages\\pandas\\core\\indexing.py:1073\u001b[0m, in \u001b[0;36m_LocationIndexer.__getitem__\u001b[1;34m(self, key)\u001b[0m\n\u001b[0;32m   1070\u001b[0m axis \u001b[39m=\u001b[39m \u001b[39mself\u001b[39m\u001b[39m.\u001b[39maxis \u001b[39mor\u001b[39;00m \u001b[39m0\u001b[39m\n\u001b[0;32m   1072\u001b[0m maybe_callable \u001b[39m=\u001b[39m com\u001b[39m.\u001b[39mapply_if_callable(key, \u001b[39mself\u001b[39m\u001b[39m.\u001b[39mobj)\n\u001b[1;32m-> 1073\u001b[0m \u001b[39mreturn\u001b[39;00m \u001b[39mself\u001b[39m\u001b[39m.\u001b[39m_getitem_axis(maybe_callable, axis\u001b[39m=\u001b[39maxis)\n",
      "File \u001b[1;32mc:\\Users\\user\\anaconda3\\Lib\\site-packages\\pandas\\core\\indexing.py:1625\u001b[0m, in \u001b[0;36m_iLocIndexer._getitem_axis\u001b[1;34m(self, key, axis)\u001b[0m\n\u001b[0;32m   1622\u001b[0m     \u001b[39mraise\u001b[39;00m \u001b[39mTypeError\u001b[39;00m(\u001b[39m\"\u001b[39m\u001b[39mCannot index by location index with a non-integer key\u001b[39m\u001b[39m\"\u001b[39m)\n\u001b[0;32m   1624\u001b[0m \u001b[39m# validate the location\u001b[39;00m\n\u001b[1;32m-> 1625\u001b[0m \u001b[39mself\u001b[39m\u001b[39m.\u001b[39m_validate_integer(key, axis)\n\u001b[0;32m   1627\u001b[0m \u001b[39mreturn\u001b[39;00m \u001b[39mself\u001b[39m\u001b[39m.\u001b[39mobj\u001b[39m.\u001b[39m_ixs(key, axis\u001b[39m=\u001b[39maxis)\n",
      "File \u001b[1;32mc:\\Users\\user\\anaconda3\\Lib\\site-packages\\pandas\\core\\indexing.py:1557\u001b[0m, in \u001b[0;36m_iLocIndexer._validate_integer\u001b[1;34m(self, key, axis)\u001b[0m\n\u001b[0;32m   1555\u001b[0m len_axis \u001b[39m=\u001b[39m \u001b[39mlen\u001b[39m(\u001b[39mself\u001b[39m\u001b[39m.\u001b[39mobj\u001b[39m.\u001b[39m_get_axis(axis))\n\u001b[0;32m   1556\u001b[0m \u001b[39mif\u001b[39;00m key \u001b[39m>\u001b[39m\u001b[39m=\u001b[39m len_axis \u001b[39mor\u001b[39;00m key \u001b[39m<\u001b[39m \u001b[39m-\u001b[39mlen_axis:\n\u001b[1;32m-> 1557\u001b[0m     \u001b[39mraise\u001b[39;00m \u001b[39mIndexError\u001b[39;00m(\u001b[39m\"\u001b[39m\u001b[39msingle positional indexer is out-of-bounds\u001b[39m\u001b[39m\"\u001b[39m)\n",
      "\u001b[1;31mIndexError\u001b[0m: single positional indexer is out-of-bounds"
     ]
    },
    {
     "data": {
      "image/png": "[encoded data removed]",
      "text/plain": [
       "<Figure size 400x300 with 1 Axes>"
      ]
     },
     "metadata": {},
     "output_type": "display_data"
    }
   ],
   "source": [
    "features = list(pd.unique(df['요인명']))\n",
    "clusters = ['군집0', '군집1', '군집2', '군집3']\n",
    "idx = 0\n",
    "\n",
    "plt.rc('font', family='Malgun Gothic')\n",
    "plt.rcParams['axes.unicode_minus'] = False  \n",
    "\n",
    "for feature in features:\n",
    "    for cluster in clusters:\n",
    "        idx += 1\n",
    "        visualize_plot(feature, cluster, idx)\n",
    "        print(feature, cluster)\n",
    "        # plt.show()\n",
    "        "
   ]
  },
  {
   "cell_type": "code",
   "execution_count": null,
   "metadata": {},
   "outputs": [],
   "source": []
  }
 ],
 "metadata": {
  "kernelspec": {
   "display_name": "base",
   "language": "python",
   "name": "python3"
  },
  "language_info": {
   "codemirror_mode": {
    "name": "ipython",
    "version": 3
   },
   "file_extension": ".py",
   "mimetype": "text/x-python",
   "name": "python",
   "nbconvert_exporter": "python",
   "pygments_lexer": "ipython3",
   "version": "3.11.3"
  },
  "orig_nbformat": 4
 },
 "nbformat": 4,
 "nbformat_minor": 2
}
