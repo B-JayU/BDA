{
 "cells": [
  {
   "cell_type": "markdown",
   "metadata": {},
   "source": [
    "### 실시간 랭킹 데이터 수집"
   ]
  },
  {
   "cell_type": "markdown",
   "metadata": {},
   "source": [
    "#### Package Import"
   ]
  },
  {
   "cell_type": "code",
   "execution_count": 4,
   "metadata": {},
   "outputs": [],
   "source": [
    "import pandas as pd\n",
    "import numpy as np\n",
    "\n",
    "from bs4 import BeautifulSoup as bs\n",
    "from urllib.request import urlopen, Request, urlretrieve\n",
    "from urllib.request import Request\n",
    "from urllib.parse import quote_plus\n",
    "from PIL import Image"
   ]
  },
  {
   "cell_type": "markdown",
   "metadata": {},
   "source": [
    "#### 카테고리 ID 식별\n",
    "- 랭킹차트에서 세부 카테고리를 선택하면, 페이지 요청 시 \"mainCategory\" 파라미터에, 값이 전달된다.\n",
    "- 각 카테고리별 mainCategory param 값을 확인하여 request 하기."
   ]
  },
  {
   "cell_type": "code",
   "execution_count": 5,
   "metadata": {},
   "outputs": [],
   "source": [
    "# \n",
    "main_cat = ['전체', \n",
    "           '상의', '아우터', '바지', '원피스', '스커트', '스니커즈', '신발', '가방', '여성가방','스포츠용품', \n",
    "           '모자', '양말레그웨어', '속옷', '선글라스안경테', '액세서리', '시계', '주얼리', '뷰티', '디지털테크', '리빙',\n",
    "           '컬쳐', '반려동물']\n",
    "\n",
    "main_cat_id = ['', \n",
    "               '001', '002', '003', '020', '022', '018', '005', '004', '054', '017',\n",
    "               '007', '008', '026', '009', '011', '006', '025', '015', '012', '058',\n",
    "               '014', '021']\n",
    "\n",
    "main_cat_dict = {}\n",
    "\n",
    "for i in range(len(main_cat)):\n",
    "  main_cat_dict[main_cat[i]] = main_cat_id[i]\n",
    "\n",
    "# main_cat_dict"
   ]
  },
  {
   "cell_type": "code",
   "execution_count": 6,
   "metadata": {},
   "outputs": [],
   "source": [
    "# 카테고리 확인\n",
    "# for i in main_cat_dict.keys():\n",
    "# print(i)"
   ]
  },
  {
   "cell_type": "code",
   "execution_count": 7,
   "metadata": {},
   "outputs": [],
   "source": [
    "base_url_01 = 'https://www.musinsa.com/ranking/best?period=now&age=ALL&mainCategory='\n",
    "base_url_02 = '&subCategory=&leafCategory=&price=&golf=false&kids=false&newProduct=False&exclusive=false&discount=false&soldOut=false&page=1&viewType=small&includeWomen=false&priceMin=&priceMax='\n",
    "search_url = base_url_01 + main_cat_dict['아우터'] + base_url_02\n",
    "\n",
    "# search_url"
   ]
  },
  {
   "cell_type": "markdown",
   "metadata": {},
   "source": [
    "#### 카테고리별 상품 랭킹 리스트 - 세부 상품정보 url 가져오기\n",
    "- 랭킹 페이지에서 보이는 상품들의 '세부 상품정보 href (상품 url)' 값 가져오기"
   ]
  },
  {
   "cell_type": "code",
   "execution_count": 8,
   "metadata": {},
   "outputs": [],
   "source": [
    "html = Request(search_url, headers={'User-Agent' : 'Mozilla/5.0'})\n",
    "page = urlopen(html)\n",
    "# print(page)\n",
    "\n",
    "selector = '#goodsRankList > li div.li_inner > div.article_info > p.list_info > a'\n",
    "soup = bs(page, 'html.parser')\n",
    "selected = soup.select(selector)\n",
    "\n",
    "items_url = []\n",
    "for item in selected:\n",
    "    items_url.append(item['href'])\n",
    "\n",
    "# print(len(items_url), items_url, sep='\\n')"
   ]
  },
  {
   "cell_type": "markdown",
   "metadata": {},
   "source": [
    "#### 상품 기본 정보 가져오기\n",
    "- 상품 url : 랭킹리스트에서 클릭했을 때 이동하는 상품 세부 정보 페이지\n",
    "  - 브랜드, 제품품번, 제품명(한글), 제품명(영어), 가격(비회원), 상품 좋아요 수 등의 정보는 상품 url 클릭 후 이동한 페이지에서 수집되어야 함."
   ]
  },
  {
   "cell_type": "code",
   "execution_count": 9,
   "metadata": {},
   "outputs": [],
   "source": [
    "selector1 = '#product_order_info > div.explan_product.product_info_section > ul > li:nth-child(1) > p.product_article_contents > strong'\n",
    "selector2 = '#product_order_info > div.explan_product.product_info_section > ul > li:nth-child(1) > p.product_article_contents > strong > a'\n",
    "selector3 = '#page_product_detail > div.right_area.page_detail_product > div.right_contents.section_product_summary > span > em'\n",
    "selector4 = '#sPrice > ul > li.pertinent > span.txt_price_member'\n",
    "selector4_2 = '#product_order_info > div.explan_product.price_info_section > ul > li:nth-child(3) > div > span.product_article_price.product_article_price--clearance'\n",
    "selector5 = '#product-top-like > p.product_article_contents.goods_like_3453194 > span'"
   ]
  },
  {
   "cell_type": "code",
   "execution_count": 10,
   "metadata": {},
   "outputs": [
    {
     "ename": "KeyboardInterrupt",
     "evalue": "",
     "output_type": "error",
     "traceback": [
      "\u001b[1;31m---------------------------------------------------------------------------\u001b[0m",
      "\u001b[1;31mKeyboardInterrupt\u001b[0m                         Traceback (most recent call last)",
      "\u001b[1;32mc:\\Users\\user\\Desktop\\BDA\\데이터팀\\데이터 - 분석 리포팅\\CategoryRankingTesting.ipynb 셀 12\u001b[0m line \u001b[0;36m1\n\u001b[0;32m      <a href='vscode-notebook-cell:/c%3A/Users/user/Desktop/BDA/%EB%8D%B0%EC%9D%B4%ED%84%B0%ED%8C%80/%EB%8D%B0%EC%9D%B4%ED%84%B0%20-%20%EB%B6%84%EC%84%9D%20%EB%A6%AC%ED%8F%AC%ED%8C%85/CategoryRankingTesting.ipynb#X14sZmlsZQ%3D%3D?line=8'>9</a>\u001b[0m page \u001b[39m=\u001b[39m urlopen(html)\n\u001b[0;32m     <a href='vscode-notebook-cell:/c%3A/Users/user/Desktop/BDA/%EB%8D%B0%EC%9D%B4%ED%84%B0%ED%8C%80/%EB%8D%B0%EC%9D%B4%ED%84%B0%20-%20%EB%B6%84%EC%84%9D%20%EB%A6%AC%ED%8F%AC%ED%8C%85/CategoryRankingTesting.ipynb#X14sZmlsZQ%3D%3D?line=9'>10</a>\u001b[0m soup \u001b[39m=\u001b[39m bs(page, \u001b[39m'\u001b[39m\u001b[39mhtml.parser\u001b[39m\u001b[39m'\u001b[39m)  \n\u001b[1;32m---> <a href='vscode-notebook-cell:/c%3A/Users/user/Desktop/BDA/%EB%8D%B0%EC%9D%B4%ED%84%B0%ED%8C%80/%EB%8D%B0%EC%9D%B4%ED%84%B0%20-%20%EB%B6%84%EC%84%9D%20%EB%A6%AC%ED%8F%AC%ED%8C%85/CategoryRankingTesting.ipynb#X14sZmlsZQ%3D%3D?line=11'>12</a>\u001b[0m selected01 \u001b[39m=\u001b[39m soup\u001b[39m.\u001b[39mselect(selector1)\n\u001b[0;32m     <a href='vscode-notebook-cell:/c%3A/Users/user/Desktop/BDA/%EB%8D%B0%EC%9D%B4%ED%84%B0%ED%8C%80/%EB%8D%B0%EC%9D%B4%ED%84%B0%20-%20%EB%B6%84%EC%84%9D%20%EB%A6%AC%ED%8F%AC%ED%8C%85/CategoryRankingTesting.ipynb#X14sZmlsZQ%3D%3D?line=12'>13</a>\u001b[0m selected02 \u001b[39m=\u001b[39m soup\u001b[39m.\u001b[39mselect(selector2)\n\u001b[0;32m     <a href='vscode-notebook-cell:/c%3A/Users/user/Desktop/BDA/%EB%8D%B0%EC%9D%B4%ED%84%B0%ED%8C%80/%EB%8D%B0%EC%9D%B4%ED%84%B0%20-%20%EB%B6%84%EC%84%9D%20%EB%A6%AC%ED%8F%AC%ED%8C%85/CategoryRankingTesting.ipynb#X14sZmlsZQ%3D%3D?line=13'>14</a>\u001b[0m selected03 \u001b[39m=\u001b[39m soup\u001b[39m.\u001b[39mselect(selector3)\n",
      "File \u001b[1;32mc:\\Users\\user\\anaconda3\\Lib\\site-packages\\bs4\\element.py:2111\u001b[0m, in \u001b[0;36mTag.select\u001b[1;34m(self, selector, namespaces, limit, **kwargs)\u001b[0m\n\u001b[0;32m   2091\u001b[0m \u001b[39mdef\u001b[39;00m \u001b[39mselect\u001b[39m(\u001b[39mself\u001b[39m, selector, namespaces\u001b[39m=\u001b[39m\u001b[39mNone\u001b[39;00m, limit\u001b[39m=\u001b[39m\u001b[39mNone\u001b[39;00m, \u001b[39m*\u001b[39m\u001b[39m*\u001b[39mkwargs):\n\u001b[0;32m   2092\u001b[0m \u001b[39m    \u001b[39m\u001b[39m\"\"\"Perform a CSS selection operation on the current element.\u001b[39;00m\n\u001b[0;32m   2093\u001b[0m \n\u001b[0;32m   2094\u001b[0m \u001b[39m    This uses the SoupSieve library.\u001b[39;00m\n\u001b[1;32m   (...)\u001b[0m\n\u001b[0;32m   2109\u001b[0m \u001b[39m    :rtype: bs4.element.ResultSet\u001b[39;00m\n\u001b[0;32m   2110\u001b[0m \u001b[39m    \"\"\"\u001b[39;00m\n\u001b[1;32m-> 2111\u001b[0m     \u001b[39mreturn\u001b[39;00m \u001b[39mself\u001b[39m\u001b[39m.\u001b[39mcss\u001b[39m.\u001b[39mselect(selector, namespaces, limit, \u001b[39m*\u001b[39m\u001b[39m*\u001b[39mkwargs)\n",
      "File \u001b[1;32mc:\\Users\\user\\anaconda3\\Lib\\site-packages\\bs4\\css.py:162\u001b[0m, in \u001b[0;36mCSS.select\u001b[1;34m(self, select, namespaces, limit, flags, **kwargs)\u001b[0m\n\u001b[0;32m    158\u001b[0m \u001b[39mif\u001b[39;00m limit \u001b[39mis\u001b[39;00m \u001b[39mNone\u001b[39;00m:\n\u001b[0;32m    159\u001b[0m     limit \u001b[39m=\u001b[39m \u001b[39m0\u001b[39m\n\u001b[0;32m    161\u001b[0m \u001b[39mreturn\u001b[39;00m \u001b[39mself\u001b[39m\u001b[39m.\u001b[39m_rs(\n\u001b[1;32m--> 162\u001b[0m     \u001b[39mself\u001b[39m\u001b[39m.\u001b[39mapi\u001b[39m.\u001b[39mselect(\n\u001b[0;32m    163\u001b[0m         select, \u001b[39mself\u001b[39m\u001b[39m.\u001b[39mtag, \u001b[39mself\u001b[39m\u001b[39m.\u001b[39m_ns(namespaces, select), limit, flags,\n\u001b[0;32m    164\u001b[0m         \u001b[39m*\u001b[39m\u001b[39m*\u001b[39mkwargs\n\u001b[0;32m    165\u001b[0m     )\n\u001b[0;32m    166\u001b[0m )\n",
      "File \u001b[1;32mc:\\Users\\user\\anaconda3\\Lib\\site-packages\\soupsieve\\__init__.py:147\u001b[0m, in \u001b[0;36mselect\u001b[1;34m(select, tag, namespaces, limit, flags, custom, **kwargs)\u001b[0m\n\u001b[0;32m    135\u001b[0m \u001b[39mdef\u001b[39;00m \u001b[39mselect\u001b[39m(\n\u001b[0;32m    136\u001b[0m     select: \u001b[39mstr\u001b[39m,\n\u001b[0;32m    137\u001b[0m     tag: \u001b[39m'\u001b[39m\u001b[39mbs4.Tag\u001b[39m\u001b[39m'\u001b[39m,\n\u001b[1;32m   (...)\u001b[0m\n\u001b[0;32m    143\u001b[0m     \u001b[39m*\u001b[39m\u001b[39m*\u001b[39mkwargs: Any\n\u001b[0;32m    144\u001b[0m ) \u001b[39m-\u001b[39m\u001b[39m>\u001b[39m \u001b[39mlist\u001b[39m[\u001b[39m'\u001b[39m\u001b[39mbs4.Tag\u001b[39m\u001b[39m'\u001b[39m]:\n\u001b[0;32m    145\u001b[0m \u001b[39m    \u001b[39m\u001b[39m\"\"\"Select the specified tags.\"\"\"\u001b[39;00m\n\u001b[1;32m--> 147\u001b[0m     \u001b[39mreturn\u001b[39;00m \u001b[39mcompile\u001b[39m(select, namespaces, flags, \u001b[39m*\u001b[39m\u001b[39m*\u001b[39mkwargs)\u001b[39m.\u001b[39mselect(tag, limit)\n",
      "File \u001b[1;32mc:\\Users\\user\\anaconda3\\Lib\\site-packages\\soupsieve\\css_match.py:1569\u001b[0m, in \u001b[0;36mSoupSieve.select\u001b[1;34m(self, tag, limit)\u001b[0m\n\u001b[0;32m   1566\u001b[0m \u001b[39mdef\u001b[39;00m \u001b[39mselect\u001b[39m(\u001b[39mself\u001b[39m, tag: bs4\u001b[39m.\u001b[39mTag, limit: \u001b[39mint\u001b[39m \u001b[39m=\u001b[39m \u001b[39m0\u001b[39m) \u001b[39m-\u001b[39m\u001b[39m>\u001b[39m \u001b[39mlist\u001b[39m[bs4\u001b[39m.\u001b[39mTag]:\n\u001b[0;32m   1567\u001b[0m \u001b[39m    \u001b[39m\u001b[39m\"\"\"Select the specified tags.\"\"\"\u001b[39;00m\n\u001b[1;32m-> 1569\u001b[0m     \u001b[39mreturn\u001b[39;00m \u001b[39mlist\u001b[39m(\u001b[39mself\u001b[39m\u001b[39m.\u001b[39miselect(tag, limit))\n",
      "File \u001b[1;32mc:\\Users\\user\\anaconda3\\Lib\\site-packages\\soupsieve\\css_match.py:1574\u001b[0m, in \u001b[0;36mSoupSieve.iselect\u001b[1;34m(self, tag, limit)\u001b[0m\n\u001b[0;32m   1571\u001b[0m \u001b[39mdef\u001b[39;00m \u001b[39miselect\u001b[39m(\u001b[39mself\u001b[39m, tag: bs4\u001b[39m.\u001b[39mTag, limit: \u001b[39mint\u001b[39m \u001b[39m=\u001b[39m \u001b[39m0\u001b[39m) \u001b[39m-\u001b[39m\u001b[39m>\u001b[39m Iterator[bs4\u001b[39m.\u001b[39mTag]:\n\u001b[0;32m   1572\u001b[0m \u001b[39m    \u001b[39m\u001b[39m\"\"\"Iterate the specified tags.\"\"\"\u001b[39;00m\n\u001b[1;32m-> 1574\u001b[0m     \u001b[39mfor\u001b[39;00m el \u001b[39min\u001b[39;00m CSSMatch(\u001b[39mself\u001b[39m\u001b[39m.\u001b[39mselectors, tag, \u001b[39mself\u001b[39m\u001b[39m.\u001b[39mnamespaces, \u001b[39mself\u001b[39m\u001b[39m.\u001b[39mflags)\u001b[39m.\u001b[39mselect(limit):\n\u001b[0;32m   1575\u001b[0m         \u001b[39myield\u001b[39;00m el\n",
      "File \u001b[1;32mc:\\Users\\user\\anaconda3\\Lib\\site-packages\\soupsieve\\css_match.py:1474\u001b[0m, in \u001b[0;36mCSSMatch.select\u001b[1;34m(self, limit)\u001b[0m\n\u001b[0;32m   1471\u001b[0m lim \u001b[39m=\u001b[39m \u001b[39mNone\u001b[39;00m \u001b[39mif\u001b[39;00m limit \u001b[39m<\u001b[39m \u001b[39m1\u001b[39m \u001b[39melse\u001b[39;00m limit\n\u001b[0;32m   1473\u001b[0m \u001b[39mfor\u001b[39;00m child \u001b[39min\u001b[39;00m \u001b[39mself\u001b[39m\u001b[39m.\u001b[39mget_descendants(\u001b[39mself\u001b[39m\u001b[39m.\u001b[39mtag):\n\u001b[1;32m-> 1474\u001b[0m     \u001b[39mif\u001b[39;00m \u001b[39mself\u001b[39m\u001b[39m.\u001b[39mmatch(child):\n\u001b[0;32m   1475\u001b[0m         \u001b[39myield\u001b[39;00m child\n\u001b[0;32m   1476\u001b[0m         \u001b[39mif\u001b[39;00m lim \u001b[39mis\u001b[39;00m \u001b[39mnot\u001b[39;00m \u001b[39mNone\u001b[39;00m:\n",
      "File \u001b[1;32mc:\\Users\\user\\anaconda3\\Lib\\site-packages\\soupsieve\\css_match.py:1501\u001b[0m, in \u001b[0;36mCSSMatch.match\u001b[1;34m(self, el)\u001b[0m\n\u001b[0;32m   1498\u001b[0m \u001b[39mdef\u001b[39;00m \u001b[39mmatch\u001b[39m(\u001b[39mself\u001b[39m, el: bs4\u001b[39m.\u001b[39mTag) \u001b[39m-\u001b[39m\u001b[39m>\u001b[39m \u001b[39mbool\u001b[39m:\n\u001b[0;32m   1499\u001b[0m \u001b[39m    \u001b[39m\u001b[39m\"\"\"Match.\"\"\"\u001b[39;00m\n\u001b[1;32m-> 1501\u001b[0m     \u001b[39mreturn\u001b[39;00m \u001b[39mnot\u001b[39;00m \u001b[39mself\u001b[39m\u001b[39m.\u001b[39mis_doc(el) \u001b[39mand\u001b[39;00m \u001b[39mself\u001b[39m\u001b[39m.\u001b[39mis_tag(el) \u001b[39mand\u001b[39;00m \u001b[39mself\u001b[39m\u001b[39m.\u001b[39mmatch_selectors(el, \u001b[39mself\u001b[39m\u001b[39m.\u001b[39mselectors)\n",
      "File \u001b[1;32mc:\\Users\\user\\anaconda3\\Lib\\site-packages\\soupsieve\\css_match.py:1405\u001b[0m, in \u001b[0;36mCSSMatch.match_selectors\u001b[1;34m(self, el, selectors)\u001b[0m\n\u001b[0;32m   1403\u001b[0m     \u001b[39mcontinue\u001b[39;00m\n\u001b[0;32m   1404\u001b[0m \u001b[39m# Verify tag matches\u001b[39;00m\n\u001b[1;32m-> 1405\u001b[0m \u001b[39mif\u001b[39;00m \u001b[39mnot\u001b[39;00m \u001b[39mself\u001b[39m\u001b[39m.\u001b[39mmatch_tag(el, selector\u001b[39m.\u001b[39mtag):\n\u001b[0;32m   1406\u001b[0m     \u001b[39mcontinue\u001b[39;00m\n\u001b[0;32m   1407\u001b[0m \u001b[39m# Verify tag is defined\u001b[39;00m\n",
      "File \u001b[1;32mc:\\Users\\user\\anaconda3\\Lib\\site-packages\\soupsieve\\css_match.py:762\u001b[0m, in \u001b[0;36mCSSMatch.match_tag\u001b[1;34m(self, el, tag)\u001b[0m\n\u001b[0;32m    760\u001b[0m     \u001b[39mif\u001b[39;00m \u001b[39mnot\u001b[39;00m \u001b[39mself\u001b[39m\u001b[39m.\u001b[39mmatch_namespace(el, tag):\n\u001b[0;32m    761\u001b[0m         match \u001b[39m=\u001b[39m \u001b[39mFalse\u001b[39;00m\n\u001b[1;32m--> 762\u001b[0m     \u001b[39mif\u001b[39;00m \u001b[39mnot\u001b[39;00m \u001b[39mself\u001b[39m\u001b[39m.\u001b[39mmatch_tagname(el, tag):\n\u001b[0;32m    763\u001b[0m         match \u001b[39m=\u001b[39m \u001b[39mFalse\u001b[39;00m\n\u001b[0;32m    764\u001b[0m \u001b[39mreturn\u001b[39;00m match\n",
      "File \u001b[1;32mc:\\Users\\user\\anaconda3\\Lib\\site-packages\\soupsieve\\css_match.py:751\u001b[0m, in \u001b[0;36mCSSMatch.match_tagname\u001b[1;34m(self, el, tag)\u001b[0m\n\u001b[0;32m    746\u001b[0m \u001b[39m\u001b[39m\u001b[39m\"\"\"Match tag name.\"\"\"\u001b[39;00m\n\u001b[0;32m    748\u001b[0m name \u001b[39m=\u001b[39m (util\u001b[39m.\u001b[39mlower(tag\u001b[39m.\u001b[39mname) \u001b[39mif\u001b[39;00m \u001b[39mnot\u001b[39;00m \u001b[39mself\u001b[39m\u001b[39m.\u001b[39mis_xml \u001b[39mand\u001b[39;00m tag\u001b[39m.\u001b[39mname \u001b[39mis\u001b[39;00m \u001b[39mnot\u001b[39;00m \u001b[39mNone\u001b[39;00m \u001b[39melse\u001b[39;00m tag\u001b[39m.\u001b[39mname)\n\u001b[0;32m    749\u001b[0m \u001b[39mreturn\u001b[39;00m \u001b[39mnot\u001b[39;00m (\n\u001b[0;32m    750\u001b[0m     name \u001b[39mis\u001b[39;00m \u001b[39mnot\u001b[39;00m \u001b[39mNone\u001b[39;00m \u001b[39mand\u001b[39;00m\n\u001b[1;32m--> 751\u001b[0m     name \u001b[39mnot\u001b[39;00m \u001b[39min\u001b[39;00m (\u001b[39mself\u001b[39m\u001b[39m.\u001b[39mget_tag(el), \u001b[39m'\u001b[39m\u001b[39m*\u001b[39m\u001b[39m'\u001b[39m)\n\u001b[0;32m    752\u001b[0m )\n",
      "File \u001b[1;32mc:\\Users\\user\\anaconda3\\Lib\\site-packages\\soupsieve\\css_match.py:548\u001b[0m, in \u001b[0;36mCSSMatch.get_tag\u001b[1;34m(self, el)\u001b[0m\n\u001b[0;32m    544\u001b[0m \u001b[39m    \u001b[39m\u001b[39m\"\"\"Check if tag is in HTML namespace.\"\"\"\u001b[39;00m\n\u001b[0;32m    546\u001b[0m     \u001b[39mreturn\u001b[39;00m \u001b[39mself\u001b[39m\u001b[39m.\u001b[39mget_tag_ns(el) \u001b[39m==\u001b[39m NS_XHTML\n\u001b[1;32m--> 548\u001b[0m \u001b[39mdef\u001b[39;00m \u001b[39mget_tag\u001b[39m(\u001b[39mself\u001b[39m, el: bs4\u001b[39m.\u001b[39mTag) \u001b[39m-\u001b[39m\u001b[39m>\u001b[39m Optional[\u001b[39mstr\u001b[39m]:\n\u001b[0;32m    549\u001b[0m \u001b[39m    \u001b[39m\u001b[39m\"\"\"Get tag.\"\"\"\u001b[39;00m\n\u001b[0;32m    551\u001b[0m     name \u001b[39m=\u001b[39m \u001b[39mself\u001b[39m\u001b[39m.\u001b[39mget_tag_name(el)\n",
      "\u001b[1;31mKeyboardInterrupt\u001b[0m: "
     ]
    }
   ],
   "source": [
    "product_id = []\n",
    "brand_name = []\n",
    "product_title = []\n",
    "product_price = []\n",
    "# product_like = []\n",
    "\n",
    "for url in items_url:\n",
    "  html = Request(url, headers={'User-Agent' : 'Mozilla/5.0'})\n",
    "  page = urlopen(html)\n",
    "  soup = bs(page, 'html.parser')  \n",
    "  \n",
    "  selected01 = soup.select(selector1)\n",
    "  selected02 = soup.select(selector2)\n",
    "  selected03 = soup.select(selector3)\n",
    "  selected04 = soup.select(selector4)\n",
    "  selected04_2 = soup.select(selector4_2)\n",
    "  # selected05 = soup.select(selector5)\n",
    "\n",
    "  if not selected04:\n",
    "    selected04 = selected04_2\n",
    "\n",
    "#  for pid, name, title, price, like in zip(selected01, selected02, selected03, selected04, selected05):\n",
    "\n",
    "for pid, name, title, price in zip(selected01, selected02, selected03, selected04):\n",
    "    product_id.append(pid.get_text().split(' / ')[1])\n",
    "    brand_name.append(name.get_text())\n",
    "    product_title.append(title.get_text().split(' / ')[0])\n",
    "    product_price.append(price.get_text().replace(',', '').split('원')[0])\n",
    "    # product_like.append(like.get_text().replace(',', ''))"
   ]
  },
  {
   "cell_type": "code",
   "execution_count": null,
   "metadata": {},
   "outputs": [
    {
     "name": "stdout",
     "output_type": "stream",
     "text": [
      "90 90 90 90\n"
     ]
    }
   ],
   "source": [
    "# print(len(product_id), len(brand_name), len(product_title), len(product_price), len(product_like))\n",
    "print(len(product_id), len(brand_name), len(product_title), len(product_price))"
   ]
  },
  {
   "cell_type": "code",
   "execution_count": null,
   "metadata": {},
   "outputs": [
    {
     "data": {
      "text/html": [
       "<div>\n",
       "<style scoped>\n",
       "    .dataframe tbody tr th:only-of-type {\n",
       "        vertical-align: middle;\n",
       "    }\n",
       "\n",
       "    .dataframe tbody tr th {\n",
       "        vertical-align: top;\n",
       "    }\n",
       "\n",
       "    .dataframe thead th {\n",
       "        text-align: right;\n",
       "    }\n",
       "</style>\n",
       "<table border=\"1\" class=\"dataframe\">\n",
       "  <thead>\n",
       "    <tr style=\"text-align: right;\">\n",
       "      <th></th>\n",
       "      <th>품번</th>\n",
       "      <th>브랜드명</th>\n",
       "      <th>상품명(한글)</th>\n",
       "      <th>가격</th>\n",
       "    </tr>\n",
       "  </thead>\n",
       "  <tbody>\n",
       "    <tr>\n",
       "      <th>0</th>\n",
       "      <td>T1S-2WHZU03</td>\n",
       "      <td>TOFFEE</td>\n",
       "      <td>2WAY 스웻 후드 집업 (MELANGE GREY)</td>\n",
       "      <td>39000</td>\n",
       "    </tr>\n",
       "    <tr>\n",
       "      <th>1</th>\n",
       "      <td>MG2300HZ01GR</td>\n",
       "      <td>WHATITISNT</td>\n",
       "      <td>엔젤 와펜 후드집업 그레이</td>\n",
       "      <td>47400</td>\n",
       "    </tr>\n",
       "    <tr>\n",
       "      <th>2</th>\n",
       "      <td>K23AWUCD02BL</td>\n",
       "      <td>KNITTED</td>\n",
       "      <td>쉐기독 울 100% 라운드 가디건 BLUE</td>\n",
       "      <td>98900</td>\n",
       "    </tr>\n",
       "    <tr>\n",
       "      <th>3</th>\n",
       "      <td>B-OUTER-0033-OLIVE</td>\n",
       "      <td>BRONSON</td>\n",
       "      <td>US Air Force Type L-2 Flight Jacket Olive</td>\n",
       "      <td>215000</td>\n",
       "    </tr>\n",
       "    <tr>\n",
       "      <th>4</th>\n",
       "      <td>WBC3L04503GR</td>\n",
       "      <td>GENERALIDEA</td>\n",
       "      <td>GNRL 에센셜 가디건 [GREY]</td>\n",
       "      <td>49000</td>\n",
       "    </tr>\n",
       "    <tr>\n",
       "      <th>...</th>\n",
       "      <td>...</td>\n",
       "      <td>...</td>\n",
       "      <td>...</td>\n",
       "      <td>...</td>\n",
       "    </tr>\n",
       "    <tr>\n",
       "      <th>85</th>\n",
       "      <td>MG2300HZ01OT</td>\n",
       "      <td>WHATITISNT</td>\n",
       "      <td>엔젤 와펜 후드집업 오트밀</td>\n",
       "      <td>47400</td>\n",
       "    </tr>\n",
       "    <tr>\n",
       "      <th>86</th>\n",
       "      <td>1649328</td>\n",
       "      <td>WV PROJECT</td>\n",
       "      <td>와핑 후드집업 그레이 JJOT7203</td>\n",
       "      <td>39800</td>\n",
       "    </tr>\n",
       "    <tr>\n",
       "      <th>87</th>\n",
       "      <td>YC8HD0003NA</td>\n",
       "      <td>YALE</td>\n",
       "      <td>(23FW) [ONEMILE WEAR] SMALL ARCH LOGO HOODIE Z...</td>\n",
       "      <td>69000</td>\n",
       "    </tr>\n",
       "    <tr>\n",
       "      <th>88</th>\n",
       "      <td>NJ3NP85D</td>\n",
       "      <td>THE NORTH FACE</td>\n",
       "      <td>NJ3NP85D 여성 눕시 온볼 자켓</td>\n",
       "      <td>249000</td>\n",
       "    </tr>\n",
       "    <tr>\n",
       "      <th>89</th>\n",
       "      <td>T1S-2WHZU02</td>\n",
       "      <td>TOFFEE</td>\n",
       "      <td>2WAY 스웻 후드 집업 (CHARCOAL)</td>\n",
       "      <td>39000</td>\n",
       "    </tr>\n",
       "  </tbody>\n",
       "</table>\n",
       "<p>90 rows × 4 columns</p>\n",
       "</div>"
      ],
      "text/plain": [
       "                    품번            브랜드명  \\\n",
       "0          T1S-2WHZU03          TOFFEE   \n",
       "1         MG2300HZ01GR      WHATITISNT   \n",
       "2         K23AWUCD02BL         KNITTED   \n",
       "3   B-OUTER-0033-OLIVE         BRONSON   \n",
       "4         WBC3L04503GR     GENERALIDEA   \n",
       "..                 ...             ...   \n",
       "85        MG2300HZ01OT      WHATITISNT   \n",
       "86             1649328      WV PROJECT   \n",
       "87         YC8HD0003NA            YALE   \n",
       "88            NJ3NP85D  THE NORTH FACE   \n",
       "89         T1S-2WHZU02          TOFFEE   \n",
       "\n",
       "                                              상품명(한글)      가격  \n",
       "0                        2WAY 스웻 후드 집업 (MELANGE GREY)   39000  \n",
       "1                                      엔젤 와펜 후드집업 그레이   47400  \n",
       "2                             쉐기독 울 100% 라운드 가디건 BLUE   98900  \n",
       "3           US Air Force Type L-2 Flight Jacket Olive  215000  \n",
       "4                                 GNRL 에센셜 가디건 [GREY]   49000  \n",
       "..                                                ...     ...  \n",
       "85                                     엔젤 와펜 후드집업 오트밀   47400  \n",
       "86                               와핑 후드집업 그레이 JJOT7203   39800  \n",
       "87  (23FW) [ONEMILE WEAR] SMALL ARCH LOGO HOODIE Z...   69000  \n",
       "88                               NJ3NP85D 여성 눕시 온볼 자켓  249000  \n",
       "89                           2WAY 스웻 후드 집업 (CHARCOAL)   39000  \n",
       "\n",
       "[90 rows x 4 columns]"
      ]
     },
     "execution_count": 15,
     "metadata": {},
     "output_type": "execute_result"
    }
   ],
   "source": [
    "# pd.DataFrame({'품번' : product_id, '브랜드명' : brand_name, '상품명(한글)' : product_title ,\n",
    "#              '가격' : product_price , '좋아요 수' : product_like})\n",
    "\n",
    "pd.DataFrame({'품번' : product_id, '브랜드명' : brand_name, '상품명(한글)' : product_title ,\n",
    "              '가격' : product_price})"
   ]
  },
  {
   "cell_type": "code",
   "execution_count": null,
   "metadata": {},
   "outputs": [],
   "source": [
    "from datetime import datetime"
   ]
  },
  {
   "cell_type": "code",
   "execution_count": null,
   "metadata": {},
   "outputs": [],
   "source": [
    "########### 카테고리별 상품 랭킹 리스트 \n",
    "for key, value in main_cat_dict.items():\n",
    "    \n",
    "    base_url_01 = 'https://www.musinsa.com/ranking/best?period=now&age=ALL&mainCategory='\n",
    "    base_url_02 = '&subCategory=&leafCategory=&price=&golf=false&kids=false&newProduct=False&exclusive=false&discount=false&soldOut=false&page=1&viewType=small&includeWomen=false&priceMin=&priceMax='\n",
    "    search_url = base_url_01 + value + base_url_02\n",
    "\n",
    "    html = Request(search_url, headers={'User-Agent' : 'Mozilla/5.0'})\n",
    "    page = urlopen(html)\n",
    "    # print(page)\n",
    "    \n",
    "    selector = '#goodsRankList > li div.li_inner > div.article_info > p.list_info > a'\n",
    "    soup = bs(page, 'html.parser')\n",
    "    selected = soup.select(selector)\n",
    "\n",
    "    items_url = []\n",
    "    for item in selected:\n",
    "        items_url.append(item['href'])\n",
    "\n",
    "    product_id = []\n",
    "    brand_name = []\n",
    "    product_title = []\n",
    "    product_price = []\n",
    "    # product_like = []\n",
    "\n",
    "    for url in items_url:\n",
    "        html = Request(url, headers={'User-Agent' : 'Mozilla/5.0'})\n",
    "        page = urlopen(html)\n",
    "        soup = bs(page, 'html.parser')  \n",
    "        \n",
    "        selected01 = soup.select(selector1)\n",
    "        selected02 = soup.select(selector2)\n",
    "        selected03 = soup.select(selector3)\n",
    "        selected04 = soup.select(selector4)\n",
    "        selected04_2 = soup.select(selector4_2)\n",
    "        # selected05 = soup.select(selector5)\n",
    "\n",
    "        if not selected04:\n",
    "            selected04 = selected04_2\n",
    "\n",
    "    #  for pid, name, title, price, like in zip(selected01, selected02, selected03, selected04, selected05):\n",
    "        for pid, name, title, price in zip(selected01, selected02, selected03, selected04):\n",
    "            product_id.append(pid.get_text().split(' / ')[1])\n",
    "            brand_name.append(name.get_text())\n",
    "            product_title.append(title.get_text().split(' / ')[0])\n",
    "            product_price.append(price.get_text().replace(',', '').split('원')[0])\n",
    "    \n",
    "    df = pd.DataFrame({'품번' : product_id, '브랜드명' : brand_name, '상품명(한글)' : product_title ,\n",
    "              '가격' : product_price})\n",
    "\n",
    "    now = datetime.now()\n",
    "    now_str = now.strftime(\"%Y%m%d\")\n",
    "    df.to_csv(f'무신사_남녀통합_{key}_Top90_{now_str}.csv', index=False, encoding='utf-8-sig')"
   ]
  },
  {
   "cell_type": "code",
   "execution_count": null,
   "metadata": {},
   "outputs": [],
   "source": []
  }
 ],
 "metadata": {
  "kernelspec": {
   "display_name": "base",
   "language": "python",
   "name": "python3"
  },
  "language_info": {
   "codemirror_mode": {
    "name": "ipython",
    "version": 3
   },
   "file_extension": ".py",
   "mimetype": "text/x-python",
   "name": "python",
   "nbconvert_exporter": "python",
   "pygments_lexer": "ipython3",
   "version": "3.11.3"
  },
  "orig_nbformat": 4
 },
 "nbformat": 4,
 "nbformat_minor": 2
}
