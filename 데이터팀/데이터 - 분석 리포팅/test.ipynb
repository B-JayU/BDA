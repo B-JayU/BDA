{
 "cells": [
  {
   "cell_type": "code",
   "execution_count": 1,
   "metadata": {},
   "outputs": [],
   "source": [
    "############################################ Package Importing\n",
    "import pandas as pd\n",
    "import numpy as np\n",
    "\n",
    "from bs4 import BeautifulSoup as bs\n",
    "from urllib.request import urlopen, Request, urlretrieve\n",
    "from urllib.request import Request\n",
    "from urllib.parse import quote_plus\n",
    "from datetime import datetime\n",
    "\n",
    "from selenium import webdriver\n",
    "from webdriver_manager.chrome import ChromeDriverManager\n",
    "from selenium.webdriver.chrome.options import Options\n",
    "from selenium.webdriver.chrome.service import Service\n",
    "from selenium.webdriver.common.by import By\n",
    "import subprocess\n",
    "import time\n",
    "from tqdm import tqdm\n",
    "from selenium.webdriver.common.by import By\n",
    "from selenium.webdriver.support.ui import WebDriverWait\n",
    "from selenium.webdriver.support import expected_conditions as EC\n",
    "## from PIL import Image"
   ]
  },
  {
   "cell_type": "code",
   "execution_count": 2,
   "metadata": {},
   "outputs": [
    {
     "name": "stdout",
     "output_type": "stream",
     "text": [
      "[<selenium.webdriver.remote.webelement.WebElement (session=\"0a895240eb7f9f00b44cf94aba7857f2\", element=\"F61B9740DEE6795B31285A4ED5754329_element_91\")>]\n",
      "[]\n",
      "[]\n",
      "[]\n"
     ]
    }
   ],
   "source": [
    "url = 'https://www.musinsa.com/app/goods/3543294?loc=goods_rank'\n",
    "\n",
    "option = Options()\n",
    "option.add_experimental_option(\"debuggerAddress\", \"127.0.0.1:9222\")\n",
    "\n",
    "# Chrome WebDriver 초기화\n",
    "chrome_driver = ChromeDriverManager().install()\n",
    "service = Service(chrome_driver)\n",
    "driver = webdriver.Chrome(service = service)\n",
    "\n",
    "driver.get(url)\n",
    "print(url)\n",
    "selected06 = driver.find_elements(By.CSS_SELECTOR, '#sPrice > ul > li:nth-child(2) > span.txt_price_member.m_list_price')\n",
    "print(selected06)\n",
    "selected06 = driver.find_elements(By.XPATH, '//*[@id=\"sPrice\"]/ul/li[2]/span[2]')\n",
    "print(selected06)\n",
    "selected06 = driver.find_elements(By.XPATH, '/html/body/div[3]/div[2]/div[3]/div[3]/div[2]/div[3]/ul/li[3]/div/div/ul/li[2]/span[2]')\n",
    "print(selected06)"
   ]
  },
  {
   "cell_type": "code",
   "execution_count": null,
   "metadata": {},
   "outputs": [],
   "source": []
  }
 ],
 "metadata": {
  "kernelspec": {
   "display_name": "base",
   "language": "python",
   "name": "python3"
  },
  "language_info": {
   "codemirror_mode": {
    "name": "ipython",
    "version": 3
   },
   "file_extension": ".py",
   "mimetype": "text/x-python",
   "name": "python",
   "nbconvert_exporter": "python",
   "pygments_lexer": "ipython3",
   "version": "3.11.3"
  },
  "orig_nbformat": 4
 },
 "nbformat": 4,
 "nbformat_minor": 2
}
