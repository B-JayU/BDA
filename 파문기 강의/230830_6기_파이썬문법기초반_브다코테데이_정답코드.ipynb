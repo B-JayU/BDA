{
 "cells": [
  {
   "cell_type": "markdown",
   "metadata": {},
   "source": [
    "# 브다코테데이 (BCD) \n",
    "## 파이썬 문법기초반 6기 \n",
    "### 230830"
   ]
  },
  {
   "cell_type": "markdown",
   "metadata": {},
   "source": [
    "### 1. 알파벳 암호화 퀴즈\n",
    "- 어떤 문장의 각 알파벳을 일정한 거리만큼 밀어서 다른 알파벳으로 바꾸는 암호화 방식을 시저 암호라 한다.\n",
    "- 예를 들어 'AB'는 1만큼 밀면 'BC', 3만큼 밀면 'DE'가 된다.\n",
    "- z는 1만큼 밀면 'a'가 된다\n",
    "- 문자열과 거리를 입력받아 문자열을 거리만큼 민 암호문을 만드는 코드를 작성하라!\n",
    "\n",
    "---\n",
    "- 공백은 아무리 밀어도 공백\n",
    "- 문자열은 알바벳 소문자, 대문자, 공백으로만 이루어짐\n",
    "- n은 1이상 25이하의 자연수 "
   ]
  },
  {
   "cell_type": "code",
   "execution_count": 1,
   "metadata": {},
   "outputs": [],
   "source": [
    "def solution(s, n):\n",
    "    s = list(s)\n",
    "    for i in range(len(s)):\n",
    "        if s[i]==' ':continue\n",
    "        corr = ord('A') if s[i].isupper() else ord('a')\n",
    "        s[i] = chr((ord(s[i])- corr + n)%26+corr)\n",
    "        \n",
    "    return ' '.join(s)"
   ]
  },
  {
   "cell_type": "code",
   "execution_count": 2,
   "metadata": {},
   "outputs": [
    {
     "data": {
      "text/plain": [
       "'f J L'"
      ]
     },
     "execution_count": 2,
     "metadata": {},
     "output_type": "execute_result"
    }
   ],
   "source": [
    "solution(['a','E','G'],5)"
   ]
  },
  {
   "cell_type": "markdown",
   "metadata": {},
   "source": [
    "### 2. 신규 ID 추천 코드 만들기! \n",
    "- BDA 새로 가입하는 카페 회원들의 아이디 규칙에 맞지 않은 아이디를 입력했을 때, 입력된 아이디와 유사하면서 규칙에 맞는 아이디를 추천해 주자!\n",
    "\n",
    "--- \n",
    "#### 아이디 규칙\n",
    "- 아이디의 길이는 3자이상 15자이하\n",
    "- 알파벳 소문자, 숫자, -, _ 마침표 . , 느낌표 ! 문자만 사용할 수 있음\n",
    "- 단 마침표는 처음과 끝에 사용할 수 없고 연속으로 사용 불가능\n",
    "\n",
    "---\n",
    "#### 처리 과정\n",
    "- 신규 회원이 입력한 아이디가 new_id인 경우 \n",
    "1. new_id의 모든 대문자를 소문자로 치환\n",
    "2. new_id에서 알파벳, 소문자, 숫자, - , _ , . , ! 를 제외한 모든 문자 제거 \n",
    "3. new_id에서 마침표가 2번이상 연속된 부분을 1개로 치환\n",
    "4. new_id에서 처음이나 끝에 위치한다면 제거\n",
    "5. new_id가 공백, 빈문자열이면 숫자 0을 대입\n",
    "6. new_id의 길이가 16자 이상이면 첫 15개의 문자를 제외한 나머지 모두 제거, 만약 제거 후 마침표가 new_id 끝에 위치하면 마침표도 제거 \n",
    "7. new_id의 길이가 2자 이하라면, new_id의 마지막 문자를 new_id길이가 3이 될 때까지 바복해서 붙인다.\n",
    "\n",
    "- ex) new_id 값이 ....@BDA..!.DAta 이면 -> bda.!.data 로\n",
    "- ex) new_id 값이 #.# => 000\n",
    "- ex) new_id 값이 0123..abc -> 0123.abc\n",
    "\n",
    "---- \n",
    "#### 제한 사항\n",
    "- new_id는 알파벳 대문자, 알파벳 소문자, 숫자, 특수문자로만 구성\n",
    "- new_id에 나타날 수 있는 특수문자 -_.~.!@#$%^&*()=+[]{}:?,<>/"
   ]
  },
  {
   "cell_type": "code",
   "execution_count": 3,
   "metadata": {},
   "outputs": [],
   "source": [
    "def solution(new_id):\n",
    "    #1\n",
    "    answer = new_id.lower()\n",
    "    #2\n",
    "    filtered = []\n",
    "    for c in answer:\n",
    "        if c.isalpha() or c.isdigit() or c in ('-','_','.','!'):\n",
    "            filtered.append(c)\n",
    "    answer = ''.join(filtered)\n",
    "    #3\n",
    "    while '..' in answer:\n",
    "        answer = answer.replace('..','.') \n",
    "    #4\n",
    "    answer = answer.strip('.')\n",
    "    #5\n",
    "    if answer =='': answer ='0'\n",
    "    #6\n",
    "    if len(answer)>15: answer = answer[:15]\n",
    "    if answer[-1]=='.': answer = answer[:-1]\n",
    "        \n",
    "    #7\n",
    "    while len(answer) <3:\n",
    "        answer += answer[-1]\n",
    "        \n",
    "    return answer"
   ]
  },
  {
   "cell_type": "code",
   "execution_count": 4,
   "metadata": {
    "scrolled": true
   },
   "outputs": [
    {
     "data": {
      "text/plain": [
       "'!_asdabda!'"
      ]
     },
     "execution_count": 4,
     "metadata": {},
     "output_type": "execute_result"
    }
   ],
   "source": [
    "solution('!@#@#_asdabda!')"
   ]
  },
  {
   "cell_type": "markdown",
   "metadata": {},
   "source": [
    "### 3. 피라미드 만들기 만들기 (갯수는 자유롭게, 3단 이상은 만들기 )\n",
    "             *\n",
    "            ***\n",
    "           *****\n",
    "          *******\n",
    "         *********\n",
    "        ***********\n",
    "       *************\n",
    "      ***************\n",
    "     *****************\n",
    "    *******************\n",
    "   *********************\n",
    "  ***********************\n",
    " *************************\n",
    "***************************"
   ]
  },
  {
   "cell_type": "code",
   "execution_count": 1,
   "metadata": {
    "scrolled": true
   },
   "outputs": [
    {
     "name": "stdout",
     "output_type": "stream",
     "text": [
      "             *\n",
      "            ***\n",
      "           *****\n",
      "          *******\n",
      "         *********\n",
      "        ***********\n",
      "       *************\n",
      "      ***************\n",
      "     *****************\n",
      "    *******************\n",
      "   *********************\n",
      "  ***********************\n",
      " *************************\n",
      "***************************\n",
      "\n"
     ]
    }
   ],
   "source": [
    "output = ''\n",
    "\n",
    "for i in range(1, 15):\n",
    "    for j in range(14,i,-1):\n",
    "        output += ' '\n",
    "    for k in range(0,2*i-1):\n",
    "        output +='*'\n",
    "    output +='\\n'\n",
    "\n",
    "print(output)"
   ]
  },
  {
   "cell_type": "markdown",
   "metadata": {},
   "source": [
    "### 4. 사용자에게 태어난 연도를 입력받아 띠를 출력하는 코드를 작성해 주세요!\n",
    "- 2022 입력시 범 띠 입니다. 출력"
   ]
  },
  {
   "cell_type": "code",
   "execution_count": 1,
   "metadata": {},
   "outputs": [
    {
     "name": "stdout",
     "output_type": "stream",
     "text": [
      "범 띠 입니다.\n"
     ]
    }
   ],
   "source": [
    "str_input = input('태어난 해를 입력해 주세요> ')\n",
    "birth_year = int(str_input)%12\n",
    "\n",
    "if birth_year ==0:\n",
    "    print('원숭이 띠 입니다.')\n",
    "elif birth_year ==1:\n",
    "    print('닭 띠 입니다.')\n",
    "elif birth_year ==2:\n",
    "    print('개 띠 입니다.')\n",
    "elif birth_year ==3:\n",
    "    print('돼지 띠 입니다.')\n",
    "elif birth_year ==4:\n",
    "    print('쥐 띠 입니다.')\n",
    "elif birth_year ==5:\n",
    "    print('소 띠 입니다.')\n",
    "elif birth_year ==6:\n",
    "    print('범 띠 입니다.')\n",
    "elif birth_year ==7:\n",
    "    print('토끼 띠 입니다.')\n",
    "elif birth_year ==8:\n",
    "    print('용 띠 입니다.')\n",
    "elif birth_year ==9:\n",
    "    print('뱀 띠 입니다.')\n",
    "elif birth_year ==10:\n",
    "    print('말 띠 입니다.')\n",
    "elif birth_year ==11:\n",
    "    print('양 띠 입니다.')    "
   ]
  },
  {
   "cell_type": "code",
   "execution_count": null,
   "metadata": {},
   "outputs": [],
   "source": []
  }
 ],
 "metadata": {
  "kernelspec": {
   "display_name": "Python 3 (ipykernel)",
   "language": "python",
   "name": "python3"
  },
  "language_info": {
   "codemirror_mode": {
    "name": "ipython",
    "version": 3
   },
   "file_extension": ".py",
   "mimetype": "text/x-python",
   "name": "python",
   "nbconvert_exporter": "python",
   "pygments_lexer": "ipython3",
   "version": "3.8.2"
  }
 },
 "nbformat": 4,
 "nbformat_minor": 4
}
